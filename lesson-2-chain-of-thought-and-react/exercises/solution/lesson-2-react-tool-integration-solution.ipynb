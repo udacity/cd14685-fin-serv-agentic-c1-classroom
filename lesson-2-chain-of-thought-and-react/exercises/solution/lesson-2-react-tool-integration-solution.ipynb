{
 "cells": [
  {
   "cell_type": "markdown",
   "id": "6d29c07d",
   "metadata": {},
   "source": [
    "# Lesson 2: ReACT Framework with Real Tool Integration - SOLUTION\n",
    "\n",
    "## Understanding ReACT with Actual Tools\n",
    "\n",
    "This notebook demonstrates **authentic ReACT (Reasoning and Acting)** where LLMs:\n",
    "1. **Think** about what tools they need\n",
    "2. **Act** by calling real investigation tools\n",
    "3. **Observe** tool results and continue reasoning\n",
    "\n",
    "**Key Difference**: Unlike basic ReACT that just describes actions, this version **actually executes tools** and processes real results.\n",
    "\n",
    "**Time Required**: 15-20 minutes  \n",
    "**Focus**: Practical ReACT implementation with financial investigation tools"
   ]
  },
  {
   "cell_type": "markdown",
   "id": "a57c536c",
   "metadata": {},
   "source": [
    "## Setup: Import Pre-Built Investigation Tools"
   ]
  },
  {
   "cell_type": "code",
   "execution_count": null,
   "id": "8105afd9",
   "metadata": {},
   "outputs": [],
   "source": [
    "# Import standard libraries\n",
    "import os\n",
    "from dotenv import load_dotenv\n",
    "from openai import OpenAI\n",
    "import json\n",
    "\n",
    "# Import our pre-built investigation tools\n",
    "from investigation_tools import (\n",
    "    get_transaction_history,\n",
    "    get_customer_profile, \n",
    "    check_regulatory_thresholds,\n",
    "    process_tool_calls\n",
    ")\n",
    "\n",
    "# Load environment and setup OpenAI client\n",
    "load_dotenv('../../.env')\n",
    "client = OpenAI(\n",
    "    base_url=\"https://openai.vocareum.com/v1\",\n",
    "    api_key=os.getenv(\"OPENAI_API_KEY\")\n",
    ")\n",
    "\n",
    "print(\"✅ Setup complete - ReACT tools ready!\")\n",
    "print(\"Available tools: transaction history, customer profiles, regulatory checks\")"
   ]
  },
  {
   "cell_type": "markdown",
   "id": "af80a3e0",
   "metadata": {},
   "source": [
    "## Quick Tool Demo: See What We're Working With"
   ]
  },
  {
   "cell_type": "code",
   "execution_count": null,
   "id": "3ddfa1f9",
   "metadata": {},
   "outputs": [],
   "source": [
    "# Quick demo of our investigation tools\n",
    "print(\"🔍 TOOL DEMO - Transaction History:\")\n",
    "demo_transactions = get_transaction_history(\"high_risk_account_001\", days=14)\n",
    "print(json.dumps(demo_transactions, indent=2))\n",
    "\n",
    "print(\"\\n👤 TOOL DEMO - Customer Profile:\")\n",
    "demo_customer = get_customer_profile(\"CUST_001\")\n",
    "print(json.dumps(demo_customer, indent=2))\n",
    "\n",
    "print(\"\\n📋 TOOL DEMO - Regulatory Check:\")\n",
    "demo_check = check_regulatory_thresholds(9800, \"cash_deposit\")\n",
    "print(json.dumps(demo_check, indent=2))"
   ]
  },
  {
   "cell_type": "markdown",
   "id": "1f58246b",
   "metadata": {},
   "source": [
    "## ReACT Prompt: Teaching LLM to Use Tools"
   ]
  },
  {
   "cell_type": "code",
   "execution_count": null,
   "id": "40f27da7",
   "metadata": {},
   "outputs": [],
   "source": [
    "# ReACT prompt that teaches the LLM to use our tools\n",
    "REACT_PROMPT = \"\"\"\n",
    "You are a Financial Crimes Investigator using real investigation tools.\n",
    "\n",
    "AVAILABLE TOOLS:\n",
    "1. get_transaction_history(account_id, days) - Get account transactions\n",
    "2. get_customer_profile(customer_id) - Get customer info and risk data\n",
    "3. check_regulatory_thresholds(amount, type) - Check compliance requirements\n",
    "\n",
    "PROCESS: Use THOUGHT → ACTION → OBSERVATION cycle:\n",
    "\n",
    "THOUGHT: [Decide what you need to investigate]\n",
    "ACTION: [Call tools using this exact JSON format]\n",
    "```json\n",
    "{\n",
    "  \"tool\": \"tool_name\",\n",
    "  \"parameters\": {\"param1\": \"value1\", \"param2\": \"value2\"}\n",
    "}\n",
    "```\n",
    "OBSERVATION: [Analyze the tool results]\n",
    "\n",
    "Continue until you have enough information for a final recommendation.\n",
    "\"\"\"\n",
    "\n",
    "print(\"📋 ReACT prompt configured for tool usage\")"
   ]
  },
  {
   "cell_type": "markdown",
   "id": "ef4f3cfb",
   "metadata": {},
   "source": [
    "## Investigation Scenario: Suspicious Cash Deposits"
   ]
  },
  {
   "cell_type": "code",
   "execution_count": null,
   "id": "4eabeb68",
   "metadata": {},
   "outputs": [],
   "source": [
    "# Investigation case for ReACT analysis\n",
    "investigation_case = \"\"\"\n",
    "SUSPICIOUS ACTIVITY ALERT\n",
    "\n",
    "Case: Multiple cash deposits just under $10,000\n",
    "Customer ID: CUST_001\n",
    "Account ID: high_risk_account_001\n",
    "Time Period: Past 14 days\n",
    "Alert Source: Branch manager noticed pattern\n",
    "Customer Explanation: \"Restaurant business doing really well\"\n",
    "\n",
    "TASK: Investigate and determine if SAR filing is required.\n",
    "\"\"\"\n",
    "\n",
    "print(\"📁 Investigation scenario loaded\")\n",
    "print(\"Focus: Potential cash structuring pattern\")"
   ]
  },
  {
   "cell_type": "markdown",
   "id": "986663f6",
   "metadata": {},
   "source": [
    "## ReACT Investigation in Action"
   ]
  },
  {
   "cell_type": "code",
   "execution_count": null,
   "id": "d55cd3ed",
   "metadata": {},
   "outputs": [],
   "source": [
    "def run_react_investigation(case_details, max_rounds=3):\n",
    "    \"\"\"Run ReACT investigation with real tool integration\"\"\"\n",
    "    \n",
    "    print(\"🚀 STARTING ReACT INVESTIGATION\")\n",
    "    print(\"=\" * 50)\n",
    "    \n",
    "    context = case_details\n",
    "    \n",
    "    for round_num in range(1, max_rounds + 1):\n",
    "        print(f\"\\n🔄 ROUND {round_num}\")\n",
    "        print(\"-\" * 30)\n",
    "        \n",
    "        # Get LLM reasoning and tool calls\n",
    "        prompt = f\"\"\"{REACT_PROMPT}\n",
    "\n",
    "CASE DETAILS:\n",
    "{context}\n",
    "\n",
    "Conduct your investigation using THOUGHT → ACTION → OBSERVATION.\n",
    "\"\"\"\n",
    "        \n",
    "        try:\n",
    "            response = client.chat.completions.create(\n",
    "                model=\"gpt-4o-mini\",\n",
    "                messages=[{\"role\": \"user\", \"content\": prompt}],\n",
    "                temperature=0.3,\n",
    "                max_tokens=600\n",
    "            )\n",
    "            \n",
    "            llm_response = response.choices[0].message.content\n",
    "            print(\"🤖 INVESTIGATOR RESPONSE:\")\n",
    "            print(llm_response)\n",
    "            print()\n",
    "            \n",
    "            # Execute any tool calls\n",
    "            tool_results = process_tool_calls(llm_response)\n",
    "            \n",
    "            if tool_results:\n",
    "                # Add tool results to context for next round\n",
    "                context += f\"\\n\\nROUND {round_num} TOOL RESULTS:\\n\"\n",
    "                for result in tool_results:\n",
    "                    context += f\"- {result['tool']}: {json.dumps(result['result'], indent=2)}\\n\"\n",
    "            else:\n",
    "                # No tools called - likely final conclusion\n",
    "                print(\"✅ Investigation complete - no more tools needed\")\n",
    "                break\n",
    "                \n",
    "        except Exception as e:\n",
    "            print(f\"❌ Error in Round {round_num}: {str(e)}\")\n",
    "            break\n",
    "    \n",
    "    print(\"\\n\" + \"=\" * 50)\n",
    "    print(\"🏁 INVESTIGATION COMPLETE\")\n",
    "\n",
    "# Run the investigation\n",
    "run_react_investigation(investigation_case)"
   ]
  },
  {
   "cell_type": "markdown",
   "id": "e785358f",
   "metadata": {},
   "source": [
    "## Compare: Basic vs ReACT with Tools\n",
    "\n",
    "Let's see the difference between basic analysis and ReACT with real tools:"
   ]
  },
  {
   "cell_type": "code",
   "execution_count": null,
   "id": "39329bd1",
   "metadata": {},
   "outputs": [],
   "source": [
    "# Basic analysis without tools\n",
    "print(\"📊 COMPARISON: Basic Analysis vs ReACT with Tools\\n\")\n",
    "\n",
    "print(\"🔸 BASIC ANALYSIS (No Tools):\")\n",
    "basic_prompt = \"Analyze this suspicious activity case and provide recommendations.\"\n",
    "\n",
    "basic_response = client.chat.completions.create(\n",
    "    model=\"gpt-4o-mini\",\n",
    "    messages=[{\"role\": \"user\", \"content\": f\"{basic_prompt}\\n\\n{investigation_case}\"}],\n",
    "    temperature=0.3,\n",
    "    max_tokens=300\n",
    ")\n",
    "\n",
    "print(basic_response.choices[0].message.content)\n",
    "print(\"\\n\" + \"=\"*60)\n",
    "print(\"🔸 ReACT WITH TOOLS (Above):\")\n",
    "print(\"- Used real transaction data\")\n",
    "print(\"- Checked actual customer profile\")\n",
    "print(\"- Verified regulatory thresholds\")\n",
    "print(\"- Made data-driven decisions\")\n",
    "print(\"\\n✅ ReACT with tools provides evidence-based investigation!\")"
   ]
  },
  {
   "cell_type": "markdown",
   "id": "157a8cca",
   "metadata": {},
   "source": [
    "## Test Your Own Scenario"
   ]
  },
  {
   "cell_type": "code",
   "execution_count": null,
   "id": "46bb4299",
   "metadata": {},
   "outputs": [],
   "source": [
    "# Template for testing different scenarios\n",
    "custom_scenario = \"\"\"\n",
    "INVESTIGATION CASE: [Your Case Title]\n",
    "\n",
    "Case: [Description of suspicious activity]\n",
    "Customer ID: [Choose CUST_001, CUST_002, or CUST_003]\n",
    "Account ID: [Choose high_risk_account_001, business_account_002, or normal_account]\n",
    "Alert Source: [How was this detected]\n",
    "Customer Explanation: [What customer says]\n",
    "\n",
    "TASK: [What you want the investigator to determine]\n",
    "\"\"\"\n",
    "\n",
    "print(\"💡 TESTING FRAMEWORK:\")\n",
    "print(\"1. Fill in the template above\")\n",
    "print(\"2. Run: run_react_investigation(your_scenario)\")\n",
    "print(\"3. Watch ReACT use tools to investigate\")\n",
    "print(\"\\nAvailable test combinations:\")\n",
    "print(\"- CUST_001 + high_risk_account_001: Restaurant manager, cash deposits\")\n",
    "print(\"- CUST_002 + business_account_002: Business owner, wire transfers\")\n",
    "print(\"- CUST_003 + normal_account: Software engineer, normal transactions\")"
   ]
  },
  {
   "cell_type": "markdown",
   "id": "472ff9dc",
   "metadata": {},
   "source": [
    "## Key Takeaways: Real ReACT Implementation\n",
    "\n",
    "### What We Demonstrated:\n",
    "\n",
    "**1. Authentic Tool Integration**\n",
    "- ✅ Real function calls with actual parameters\n",
    "- ✅ JSON parsing and tool execution\n",
    "- ✅ Tool results fed back into reasoning\n",
    "\n",
    "**2. Practical ReACT Workflow**\n",
    "- ✅ LLM decides what tools to use based on investigation needs\n",
    "- ✅ Tools provide real data for analysis\n",
    "- ✅ Iterative refinement based on tool results\n",
    "\n",
    "**3. Financial Investigation Benefits**\n",
    "- ✅ Evidence-based decisions vs. speculation\n",
    "- ✅ Systematic data gathering\n",
    "- ✅ Regulatory compliance checking\n",
    "- ✅ Audit trail of investigation steps\n",
    "\n",
    "### vs. Basic ReACT (Simulated Actions):\n",
    "- **Basic ReACT**: \"I would check the transaction history\" ❌\n",
    "- **ReACT with Tools**: Actually retrieves and analyzes transaction data ✅\n",
    "\n",
    "### Real-World Applications:\n",
    "- **Financial Compliance**: Automated suspicious activity investigation\n",
    "- **Risk Assessment**: Data-driven customer risk evaluation\n",
    "- **Regulatory Reporting**: Evidence gathering for SAR/CTR filings\n",
    "- **Case Management**: Structured investigation workflows\n",
    "\n",
    "**The Power**: ReACT with real tools transforms LLMs from \"thinking about actions\" to \"actually taking actions\" with real data and measurable outcomes! 🚀\n",
    "\n",
    "---\n",
    "*Time: ~15-20 minutes | Focus: Practical ReACT Implementation | Context: Financial Investigation*"
   ]
  }
 ],
 "metadata": {
  "language_info": {
   "name": "python"
  }
 },
 "nbformat": 4,
 "nbformat_minor": 5
}
