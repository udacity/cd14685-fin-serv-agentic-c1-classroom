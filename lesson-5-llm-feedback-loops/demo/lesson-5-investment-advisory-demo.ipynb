{
 "cells": [
  {
   "cell_type": "markdown",
   "id": "df9b8789",
   "metadata": {},
   "source": [
    "# Lesson 5: Investment Advisory with LLM Feedback Loops - Demo\n",
    "\n",
    "## AI-Powered Investment Advisory Teams\n",
    "\n",
    "This demonstration shows how to create LLM feedback loops for investment advisory services where:\n",
    "1. **Investment Advisor LLM** creates personalized investment recommendations\n",
    "2. **Compliance Officer LLM** reviews recommendations for risk and regulatory compliance\n",
    "3. **Investment Advisor LLM** refines recommendations based on compliance feedback\n",
    "4. Process continues until both investment goals and risk standards are met\n",
    "\n",
    "**Duration**: 12-15 minutes  \n",
    "**Scenario**: Personal investment advisory with automated quality control  \n",
    "**Key Learning**: How AI agents collaborate to improve financial recommendations"
   ]
  },
  {
   "cell_type": "markdown",
   "id": "bc50d5b5",
   "metadata": {},
   "source": [
    "## Learning Goals\n",
    "\n",
    "By the end of this demo, you'll understand:\n",
    "- **AI-to-AI Collaboration**: How specialized LLMs work together effectively\n",
    "- **Quality Improvement**: How feedback loops enhance recommendation quality\n",
    "- **Risk Management**: Automated compliance review in financial services\n",
    "- **Iterative Refinement**: Multiple improvement cycles for better outcomes"
   ]
  },
  {
   "cell_type": "code",
   "execution_count": 1,
   "id": "ad2b652f",
   "metadata": {},
   "outputs": [
    {
     "name": "stdout",
     "output_type": "stream",
     "text": [
      "✅ Environment configured successfully\n",
      "🎯 Ready to demonstrate LLM feedback loops in investment advisory\n"
     ]
    }
   ],
   "source": [
    "# Setup - Import libraries and configure environment\n",
    "import os\n",
    "from dotenv import load_dotenv\n",
    "from openai import OpenAI\n",
    "\n",
    "# Load environment variables\n",
    "load_dotenv('../../.env')\n",
    "\n",
    "# Setup OpenAI client\n",
    "client = OpenAI(\n",
    "    base_url=\"https://openai.vocareum.com/v1\",\n",
    "    api_key=os.getenv(\"OPENAI_API_KEY\")\n",
    ")\n",
    "\n",
    "print(\"✅ Environment configured successfully\")\n",
    "print(\"🎯 Ready to demonstrate LLM feedback loops in investment advisory\")"
   ]
  },
  {
   "cell_type": "markdown",
   "id": "971a060c",
   "metadata": {},
   "source": [
    "## Client Scenario: Young Professional Investment Planning\n",
    "\n",
    "**Meet Jessica Rodriguez:**\n",
    "- Age: 29, Marketing Director at a tech company\n",
    "- Annual income: $85,000\n",
    "- Investment goal: Build wealth for future home purchase (5-7 year timeline)\n",
    "- Risk tolerance: Moderate (comfortable with some volatility for growth)\n",
    "- Current savings: $15,000 ready to invest\n",
    "- Preferences: ESG-focused investments, technology sector interest"
   ]
  },
  {
   "cell_type": "code",
   "execution_count": 2,
   "id": "a8fa8587",
   "metadata": {},
   "outputs": [
    {
     "name": "stdout",
     "output_type": "stream",
     "text": [
      "👤 Client Profile Loaded:\n",
      "==================================================\n",
      "\n",
      "Client: Jessica Rodriguez\n",
      "Age: 29\n",
      "Profession: Marketing Director, Technology Company\n",
      "Annual Income: $85,000\n",
      "Investment Amount: $15,000\n",
      "Investment Timeline: 5-7 years (home purchase goal)\n",
      "Risk Tolerance: Moderate\n",
      "Investment Preferences:\n",
      "- ESG (Environmental, Social, Governance) focused\n",
      "- Interest in technology sector\n",
      "- Comfortable with moderate volatility for growth potential\n",
      "- Wants diversified approach across asset classes\n",
      "\n"
     ]
    }
   ],
   "source": [
    "# Client profile data\n",
    "client_profile = \"\"\"\n",
    "Client: Jessica Rodriguez\n",
    "Age: 29\n",
    "Profession: Marketing Director, Technology Company\n",
    "Annual Income: $85,000\n",
    "Investment Amount: $15,000\n",
    "Investment Timeline: 5-7 years (home purchase goal)\n",
    "Risk Tolerance: Moderate\n",
    "Investment Preferences:\n",
    "- ESG (Environmental, Social, Governance) focused\n",
    "- Interest in technology sector\n",
    "- Comfortable with moderate volatility for growth potential\n",
    "- Wants diversified approach across asset classes\n",
    "\"\"\"\n",
    "\n",
    "print(\"👤 Client Profile Loaded:\")\n",
    "print(\"=\" * 50)\n",
    "print(client_profile)"
   ]
  },
  {
   "cell_type": "markdown",
   "id": "9b041443",
   "metadata": {},
   "source": [
    "## Step 1: Define Our AI Advisory Team"
   ]
  },
  {
   "cell_type": "code",
   "execution_count": 3,
   "id": "60577630",
   "metadata": {},
   "outputs": [
    {
     "name": "stdout",
     "output_type": "stream",
     "text": [
      "🤖 AI Advisory Team Configured:\n",
      "📊 Investment Advisor: Creates personalized investment strategies\n",
      "🛡️ Compliance Officer: Reviews risk and regulatory compliance\n"
     ]
    }
   ],
   "source": [
    "# Investment Advisor LLM - Creates personalized recommendations\n",
    "ADVISOR_SYSTEM_PROMPT = \"\"\"\n",
    "You are a Certified Financial Planner (CFP) with expertise in investment advisory for young professionals.\n",
    "\n",
    "Create investment recommendations that include:\n",
    "1. Asset allocation strategy (percentages for stocks, bonds, alternatives)\n",
    "2. Specific investment product suggestions (ETFs, mutual funds, etc.)\n",
    "3. Rationale for recommendations based on client profile\n",
    "4. Expected timeline and return projections\n",
    "\n",
    "Keep recommendations practical and specific with clear reasoning.\n",
    "\"\"\"\n",
    "\n",
    "# Compliance Officer LLM - Reviews for risk and regulatory compliance\n",
    "COMPLIANCE_SYSTEM_PROMPT = \"\"\"\n",
    "You are a Senior Compliance Officer at an investment advisory firm specializing in risk management and regulatory oversight.\n",
    "\n",
    "Review investment recommendations and evaluate:\n",
    "1. Risk appropriateness for client's profile and timeline\n",
    "2. Diversification adequacy across asset classes\n",
    "3. Suitability of specific investment selections\n",
    "4. Regulatory compliance with investment advisory standards\n",
    "5. Missing risk disclosures or considerations\n",
    "\n",
    "Rate the recommendation quality 1-10. If 8+ and comprehensive, respond \"APPROVED FOR CLIENT\".\n",
    "Otherwise, provide specific improvement suggestions.\n",
    "\"\"\"\n",
    "\n",
    "print(\"🤖 AI Advisory Team Configured:\")\n",
    "print(\"📊 Investment Advisor: Creates personalized investment strategies\")\n",
    "print(\"🛡️ Compliance Officer: Reviews risk and regulatory compliance\")"
   ]
  },
  {
   "cell_type": "markdown",
   "id": "1d6a7be9",
   "metadata": {},
   "source": [
    "## Step 2: Helper Functions for AI Team Communication"
   ]
  },
  {
   "cell_type": "code",
   "execution_count": 4,
   "id": "7755aca3",
   "metadata": {},
   "outputs": [
    {
     "name": "stdout",
     "output_type": "stream",
     "text": [
      "🔧 AI communication functions ready\n",
      "💬 Advisor and Compliance Officer can now collaborate effectively\n"
     ]
    }
   ],
   "source": [
    "def get_investment_recommendation(client_profile, compliance_feedback=None):\n",
    "    \"\"\"Get investment recommendation from the Advisor LLM\"\"\"\n",
    "    \n",
    "    prompt = f\"Client Profile:\\n{client_profile}\"\n",
    "    \n",
    "    if compliance_feedback:\n",
    "        prompt += f\"\\n\\nCompliance Review Feedback:\\n{compliance_feedback}\"\n",
    "        prompt += \"\\n\\nPlease revise your investment recommendation to address the compliance concerns above.\"\n",
    "    \n",
    "    response = client.chat.completions.create(\n",
    "        model=\"gpt-4o-mini\",\n",
    "        messages=[\n",
    "            {\"role\": \"system\", \"content\": ADVISOR_SYSTEM_PROMPT},\n",
    "            {\"role\": \"user\", \"content\": prompt}\n",
    "        ],\n",
    "        temperature=0.6,\n",
    "        max_tokens=450\n",
    "    )\n",
    "    \n",
    "    return response.choices[0].message.content\n",
    "\n",
    "def get_compliance_review(recommendation, client_profile):\n",
    "    \"\"\"Get compliance review from the Compliance Officer LLM\"\"\"\n",
    "    \n",
    "    review_prompt = f\"\"\"\n",
    "Client Profile:\n",
    "{client_profile}\n",
    "\n",
    "Investment Recommendation to Review:\n",
    "{recommendation}\n",
    "\n",
    "Please conduct your compliance review and provide feedback.\n",
    "\"\"\"\n",
    "    \n",
    "    response = client.chat.completions.create(\n",
    "        model=\"gpt-4o-mini\",\n",
    "        messages=[\n",
    "            {\"role\": \"system\", \"content\": COMPLIANCE_SYSTEM_PROMPT},\n",
    "            {\"role\": \"user\", \"content\": review_prompt}\n",
    "        ],\n",
    "        temperature=0.2,  # Lower temperature for consistent compliance review\n",
    "        max_tokens=400\n",
    "    )\n",
    "    \n",
    "    return response.choices[0].message.content\n",
    "\n",
    "print(\"🔧 AI communication functions ready\")\n",
    "print(\"💬 Advisor and Compliance Officer can now collaborate effectively\")"
   ]
  },
  {
   "cell_type": "markdown",
   "id": "f2ad3205",
   "metadata": {},
   "source": [
    "## Step 3: Live Demo - Single Feedback Loop"
   ]
  },
  {
   "cell_type": "code",
   "execution_count": 5,
   "id": "131c8e50",
   "metadata": {},
   "outputs": [
    {
     "name": "stdout",
     "output_type": "stream",
     "text": [
      "🚀 STARTING INVESTMENT ADVISORY FEEDBACK LOOP\n",
      "=================================================================\n",
      "ROUND 1: Initial Investment Recommendation\n",
      "=================================================================\n",
      "📊 INVESTMENT ADVISOR RECOMMENDATION:\n",
      "--------------------------------------------------\n",
      "**Investment Recommendations for Jessica Rodriguez**\n",
      "\n",
      "**1. Asset Allocation Strategy:**\n",
      "\n",
      "Given Jessica's moderate risk tolerance and her goal of purchasing a home in 5-7 years, a balanced and diversified approach is essential. The following asset allocation is recommended:\n",
      "\n",
      "- **Stocks (Equities): 60%**  \n",
      "  - Focus on ESG and technology sectors for growth potential.\n",
      "  \n",
      "- **Bonds (Fixed Income): 30%**  \n",
      "  - A mix of government and corporate bonds for stability and income.\n",
      "\n",
      "- **Alternatives: 10%**  \n",
      "  - This could include real estate investment trusts (REITs) or ESG-focused alternatives to provide additional diversification.\n",
      "\n",
      "**2. Specific Investment Product Suggestions:**\n",
      "\n",
      "- **Equities (60% = $9,000):**\n",
      "  - **iShares Global Clean Energy ETF (ICLN)**: This ETF focuses on global companies involved in clean energy, aligning with Jessica’s ESG preferences.\n",
      "  - **Invesco QQQ Trust (QQQ)**: This ETF tracks the Nasdaq-100 Index, heavily weighted towards technology stocks, providing exposure to high-growth tech companies.\n",
      "  \n",
      "- **Bonds (30% = $4,500):**\n",
      "  - **Vanguard Total Bond Market ETF (BND)**: This ETF provides broad exposure to the U.S. bond market, including government and corporate bonds.\n",
      "  - **iShares ESG U.S. Aggregate Bond ETF (EAGG)**: This ETF focuses on investment-grade U.S. bonds while adhering to ESG principles.\n",
      "\n",
      "- **Alternatives (10% = $1,500):**\n",
      "  - **Vanguard Real Estate ETF (VNQ)**: This ETF provides exposure to real estate investment trusts (REITs), which can offer income and diversification.\n",
      "\n",
      "**3. Rationale for Recommendations Based on Client Profile:**\n",
      "\n",
      "- **Moderate Risk Tolerance:** The proposed allocation balances growth through equities while providing stability through bonds. This is suitable for Jessica's 5-7 year timeline, allowing her to capture potential market growth while managing volatility.\n",
      "\n",
      "- **ESG Focus:** The inclusion of ESG-focused ETFs aligns with Jessica's values and investment preferences, ensuring she invests in companies that prioritize sustainable and ethical practices.\n",
      "\n",
      "- **\n",
      "\n",
      "\n"
     ]
    }
   ],
   "source": [
    "print(\"🚀 STARTING INVESTMENT ADVISORY FEEDBACK LOOP\")\n",
    "print(\"=\" * 65)\n",
    "print(\"ROUND 1: Initial Investment Recommendation\")\n",
    "print(\"=\" * 65)\n",
    "\n",
    "# Investment Advisor creates initial recommendation\n",
    "initial_recommendation = get_investment_recommendation(client_profile)\n",
    "\n",
    "print(\"📊 INVESTMENT ADVISOR RECOMMENDATION:\")\n",
    "print(\"-\" * 50)\n",
    "print(initial_recommendation)\n",
    "print(\"\\n\")"
   ]
  },
  {
   "cell_type": "code",
   "execution_count": 6,
   "id": "278fbec7",
   "metadata": {},
   "outputs": [
    {
     "name": "stdout",
     "output_type": "stream",
     "text": [
      "🛡️ COMPLIANCE OFFICER REVIEW:\n",
      "--------------------------------------------------\n",
      "**Compliance Review of Investment Recommendations for Jessica Rodriguez**\n",
      "\n",
      "1. **Risk Appropriateness for Client's Profile and Timeline:**\n",
      "   - The proposed allocation of 60% equities, 30% bonds, and 10% alternatives aligns well with Jessica's moderate risk tolerance and her 5-7 year timeline. This strategy allows for growth potential while managing risk, which is appropriate given her goal of purchasing a home.\n",
      "\n",
      "2. **Diversification Adequacy Across Asset Classes:**\n",
      "   - The recommendation includes a diversified approach across asset classes (equities, bonds, and alternatives). However, within the equities and bonds, further diversification could be considered. For example, including a broader range of sectors or geographic exposure within the equity allocation could enhance risk management.\n",
      "\n",
      "3. **Suitability of Specific Investment Selections:**\n",
      "   - The selected ETFs align with Jessica's ESG preferences and provide exposure to the technology sector. However, it would be beneficial to assess the historical performance and volatility of these specific ETFs to ensure they meet her risk tolerance and investment goals. Additionally, the alternatives section could benefit from more specific ESG-focused options beyond REITs.\n",
      "\n",
      "4. **Regulatory Compliance with Investment Advisory Standards:**\n",
      "   - The recommendations appear to comply with investment advisory standards, as they consider the client's risk tolerance, investment timeline, and preferences. However, it is crucial to ensure that all recommended products are suitable and that the firm has conducted due diligence on these investments.\n",
      "\n",
      "5. **Missing Risk Disclosures or Considerations:**\n",
      "   - The recommendation lacks explicit risk disclosures related to the volatility of equities, particularly in the technology sector, which can be more volatile than other sectors. It would be prudent to include a discussion about potential market fluctuations and the risks associated with investing in ESG-focused funds, as these can sometimes underperform compared to broader market indices.\n",
      "\n",
      "**Rating: 7/10**\n",
      "\n",
      "**Improvement Suggestions:**\n",
      "- Enhance diversification within the equity allocation by considering additional sectors or international exposure.\n",
      "- Include\n",
      "\n",
      "\n",
      "📋 Status: ⚠️ NEEDS REVISION\n"
     ]
    }
   ],
   "source": [
    "# Compliance Officer reviews the recommendation\n",
    "print(\"🛡️ COMPLIANCE OFFICER REVIEW:\")\n",
    "print(\"-\" * 50)\n",
    "\n",
    "compliance_review = get_compliance_review(initial_recommendation, client_profile)\n",
    "print(compliance_review)\n",
    "print(\"\\n\")\n",
    "\n",
    "# Check approval status\n",
    "is_approved = \"APPROVED FOR CLIENT\" in compliance_review.upper()\n",
    "print(f\"📋 Status: {'✅ APPROVED' if is_approved else '⚠️ NEEDS REVISION'}\")"
   ]
  },
  {
   "cell_type": "markdown",
   "id": "8b89ed65",
   "metadata": {},
   "source": [
    "## Step 4: Iterative Improvement Process"
   ]
  },
  {
   "cell_type": "code",
   "execution_count": 7,
   "id": "f275410f",
   "metadata": {},
   "outputs": [
    {
     "name": "stdout",
     "output_type": "stream",
     "text": [
      "\n",
      "=================================================================\n",
      "ROUND 2: Revised Recommendation Based on Compliance Feedback\n",
      "=================================================================\n",
      "📊 REVISED INVESTMENT RECOMMENDATION:\n",
      "--------------------------------------------------\n",
      "### Revised Investment Recommendations for Jessica Rodriguez\n",
      "\n",
      "**Client Profile Summary:**\n",
      "- **Name:** Jessica Rodriguez\n",
      "- **Age:** 29\n",
      "- **Profession:** Marketing Director, Technology Company\n",
      "- **Annual Income:** $85,000\n",
      "- **Investment Amount:** $15,000\n",
      "- **Investment Timeline:** 5-7 years (home purchase goal)\n",
      "- **Risk Tolerance:** Moderate\n",
      "- **Investment Preferences:** ESG-focused, interest in technology sector, diversified approach across asset classes.\n",
      "\n",
      "### 1. Asset Allocation Strategy\n",
      "- **Equities:** 50%\n",
      "- **Bonds:** 30%\n",
      "- **Alternatives:** 20%\n",
      "\n",
      "### 2. Specific Investment Product Suggestions\n",
      "#### Equities (50% - $7,500)\n",
      "- **iShares ESG Aware MSCI USA ETF (ESGU)**: This ETF provides exposure to U.S. companies with positive ESG characteristics. \n",
      "- **Invesco QQQ ETF (QQQ)**: This ETF tracks the Nasdaq-100 Index and has significant exposure to the technology sector.\n",
      "- **SPDR S&P 500 ESG ETF (EFIV)**: This fund targets S&P 500 companies with favorable ESG ratings, providing broad market exposure while adhering to Jessica's ESG preferences.\n",
      "\n",
      "#### Bonds (30% - $4,500)\n",
      "- **iShares ESG U.S. Treasury Bond ETF (SBTB)**: This ETF invests in U.S. Treasury bonds with an ESG focus, providing safety and income.\n",
      "- **Vanguard ESG U.S. Corporate Bond ETF (VCEB)**: This fund offers exposure to U.S. investment-grade corporate bonds with ESG criteria.\n",
      "\n",
      "#### Alternatives (20% - $3,000)\n",
      "- **Invesco Global Listed Private Equity ETF (PSP)**: This ETF provides exposure to publicly traded private equity companies, offering potential growth and income.\n",
      "- **iShares Global REIT ETF (REET)**: This fund invests in real estate investment trusts globally with a focus on sustainable practices.\n",
      "\n",
      "### 3. Rationale for Recommendations\n",
      "- **Risk Appropriateness**: The adjusted allocation of 50% equities provides growth potential while reducing overall volatility, aligning with Jessica's moderate risk tolerance. The increased bond allocation\n",
      "\n",
      "\n",
      "🛡️ FINAL COMPLIANCE REVIEW:\n",
      "--------------------------------------------------\n",
      "### Compliance Review of Investment Recommendation for Jessica Rodriguez\n",
      "\n",
      "1. **Risk Appropriateness for Client's Profile and Timeline**:\n",
      "   - The proposed asset allocation of 50% equities, 30% bonds, and 20% alternatives aligns well with Jessica's moderate risk tolerance and 5-7 year investment timeline. However, the equity exposure is relatively high for a moderate risk profile, especially considering the potential volatility of the technology sector. A slight reduction in equity exposure (e.g., to 40%) could enhance risk management.\n",
      "\n",
      "2. **Diversification Adequacy Across Asset Classes**:\n",
      "   - The recommendation includes a mix of equities, bonds, and alternatives, which is a positive aspect. However, within the equity allocation, the focus on technology (via QQQ) and ESG criteria may limit diversification. It would be beneficial to include a broader range of sectors or a more diversified equity fund to mitigate sector-specific risks.\n",
      "\n",
      "3. **Suitability of Specific Investment Selections**:\n",
      "   - The selected ETFs are suitable given Jessica's ESG preferences and interest in technology. However, the reliance on technology-focused ETFs (QQQ) may expose her to higher volatility. Consider recommending a broader market ETF alongside the ESG-focused options to balance growth potential with stability.\n",
      "\n",
      "4. **Regulatory Compliance with Investment Advisory Standards**:\n",
      "   - The recommendations appear to comply with investment advisory standards, as they consider the client's risk tolerance, investment goals, and preferences. Ensure that the rationale for each investment is clearly documented to support the suitability of the recommendations.\n",
      "\n",
      "5. **Missing Risk Disclosures or Considerations**:\n",
      "   - The recommendation lacks explicit disclosures regarding the risks associated with each investment, particularly the potential volatility of the technology sector and the nature of alternative investments. It is essential to include a discussion on market risks, interest rate risks for bonds, and liquidity risks for alternatives.\n",
      "\n",
      "### Rating: 7/10\n",
      "\n",
      "### Improvement Suggestions:\n",
      "- **Adjust Equity Allocation**: Consider reducing the equity allocation to \n",
      "\n",
      "\n",
      "📋 Final Status: ⚠️ NEEDS FURTHER REVISION\n"
     ]
    }
   ],
   "source": [
    "if not is_approved:\n",
    "    print(\"\\n\" + \"=\" * 65)\n",
    "    print(\"ROUND 2: Revised Recommendation Based on Compliance Feedback\")\n",
    "    print(\"=\" * 65)\n",
    "    \n",
    "    # Advisor revises recommendation based on compliance feedback\n",
    "    revised_recommendation = get_investment_recommendation(client_profile, compliance_review)\n",
    "    \n",
    "    print(\"📊 REVISED INVESTMENT RECOMMENDATION:\")\n",
    "    print(\"-\" * 50)\n",
    "    print(revised_recommendation)\n",
    "    print(\"\\n\")\n",
    "    \n",
    "    # Final compliance review\n",
    "    print(\"🛡️ FINAL COMPLIANCE REVIEW:\")\n",
    "    print(\"-\" * 50)\n",
    "    \n",
    "    final_review = get_compliance_review(revised_recommendation, client_profile)\n",
    "    print(final_review)\n",
    "    print(\"\\n\")\n",
    "    \n",
    "    final_approved = \"APPROVED FOR CLIENT\" in final_review.upper()\n",
    "    print(f\"📋 Final Status: {'✅ APPROVED FOR CLIENT' if final_approved else '⚠️ NEEDS FURTHER REVISION'}\")\n",
    "    \n",
    "    if final_approved:\n",
    "        print(\"\\n🎉 Success! Recommendation approved after feedback integration\")\n",
    "else:\n",
    "    print(\"\\n🎉 Excellent! Recommendation approved on first review\")"
   ]
  },
  {
   "cell_type": "markdown",
   "id": "896b871f",
   "metadata": {},
   "source": [
    "## Step 5: Complete Advisory System"
   ]
  },
  {
   "cell_type": "code",
   "execution_count": 8,
   "id": "e0ed6845",
   "metadata": {},
   "outputs": [
    {
     "name": "stdout",
     "output_type": "stream",
     "text": [
      "🏗️ Complete investment advisory system ready\n",
      "🔄 Automated feedback loops with compliance oversight\n"
     ]
    }
   ],
   "source": [
    "def investment_advisory_system(client_profile, max_rounds=3):\n",
    "    \"\"\"\n",
    "    Complete LLM feedback loop system for investment advisory\n",
    "    \n",
    "    Returns:\n",
    "        dict: Results including final recommendation and process history\n",
    "    \"\"\"\n",
    "    \n",
    "    results = {\n",
    "        'rounds': [],\n",
    "        'final_recommendation': None,\n",
    "        'approved': False,\n",
    "        'total_rounds': 0\n",
    "    }\n",
    "    \n",
    "    recommendation = None\n",
    "    feedback = None\n",
    "    \n",
    "    for round_num in range(max_rounds):\n",
    "        print(f\"\\n🔄 Advisory Round {round_num + 1}\")\n",
    "        print(\"-\" * 40)\n",
    "        \n",
    "        # Get recommendation (initial or revised)\n",
    "        recommendation = get_investment_recommendation(client_profile, feedback)\n",
    "        \n",
    "        # Get compliance review\n",
    "        feedback = get_compliance_review(recommendation, client_profile)\n",
    "        \n",
    "        # Store round results\n",
    "        results['rounds'].append({\n",
    "            'round': round_num + 1,\n",
    "            'recommendation': recommendation,\n",
    "            'compliance_review': feedback,\n",
    "            'approved': \"APPROVED FOR CLIENT\" in feedback.upper()\n",
    "        })\n",
    "        \n",
    "        # Check approval status\n",
    "        if \"APPROVED FOR CLIENT\" in feedback.upper():\n",
    "            print(\"✅ Recommendation APPROVED FOR CLIENT!\")\n",
    "            results['approved'] = True\n",
    "            break\n",
    "        else:\n",
    "            print(\"⚠️ Compliance concerns identified, revising...\")\n",
    "    \n",
    "    results['final_recommendation'] = recommendation\n",
    "    results['total_rounds'] = len(results['rounds'])\n",
    "    \n",
    "    return results\n",
    "\n",
    "print(\"🏗️ Complete investment advisory system ready\")\n",
    "print(\"🔄 Automated feedback loops with compliance oversight\")"
   ]
  },
  {
   "cell_type": "markdown",
   "id": "eba9f534",
   "metadata": {},
   "source": [
    "## Step 6: Test with Different Client Scenarios"
   ]
  },
  {
   "cell_type": "code",
   "execution_count": 9,
   "id": "33b06073",
   "metadata": {},
   "outputs": [
    {
     "name": "stdout",
     "output_type": "stream",
     "text": [
      "🧪 Testing with Conservative Retiree Profile...\n",
      "This profile should trigger different compliance considerations...\n",
      "\n",
      "\n",
      "🔄 Advisory Round 1\n",
      "----------------------------------------\n",
      "⚠️ Compliance concerns identified, revising...\n",
      "\n",
      "🔄 Advisory Round 2\n",
      "----------------------------------------\n",
      "⚠️ Compliance concerns identified, revising...\n",
      "\n",
      "📊 Conservative Client Results:\n",
      "• Advisory rounds completed: 2\n",
      "• Final approval achieved: No\n",
      "• Compliance-driven refinement: Yes\n"
     ]
    }
   ],
   "source": [
    "# Test with a conservative retiree client\n",
    "conservative_client = \"\"\"\n",
    "Client: Robert Thompson\n",
    "Age: 63\n",
    "Profession: Retired Teacher\n",
    "Annual Income: $45,000 (pension + social security)\n",
    "Investment Amount: $50,000\n",
    "Investment Timeline: 10+ years (legacy planning)\n",
    "Risk Tolerance: Conservative\n",
    "Investment Preferences:\n",
    "- Capital preservation is priority\n",
    "- Steady income generation needed\n",
    "- Low volatility essential\n",
    "- Inflation protection desired\n",
    "- Maximum 20% in stocks due to risk concerns\n",
    "\"\"\"\n",
    "\n",
    "print(\"🧪 Testing with Conservative Retiree Profile...\")\n",
    "print(\"This profile should trigger different compliance considerations...\\n\")\n",
    "\n",
    "conservative_results = investment_advisory_system(conservative_client, max_rounds=2)\n",
    "\n",
    "print(f\"\\n📊 Conservative Client Results:\")\n",
    "print(f\"• Advisory rounds completed: {conservative_results['total_rounds']}\")\n",
    "print(f\"• Final approval achieved: {'Yes' if conservative_results['approved'] else 'No'}\")\n",
    "print(f\"• Compliance-driven refinement: {'Yes' if conservative_results['total_rounds'] > 1 else 'Approved immediately'}\")"
   ]
  },
  {
   "cell_type": "markdown",
   "id": "f682871e",
   "metadata": {},
   "source": [
    "## Key Benefits Demonstrated\n",
    "\n",
    "### 1. Quality Assurance Through AI Collaboration\n",
    "- **Specialized Expertise**: Investment strategy + compliance review\n",
    "- **Objective Oversight**: Independent risk assessment of recommendations\n",
    "- **Iterative Refinement**: Continuous improvement based on feedback\n",
    "- **Professional Standards**: Automated compliance with regulatory requirements\n",
    "\n",
    "### 2. Scalable Advisory Process\n",
    "- **Consistent Quality**: Every recommendation gets compliance review\n",
    "- **Risk Management**: Systematic evaluation of client suitability\n",
    "- **Efficiency**: Automated advisory process with built-in quality control\n",
    "- **Customization**: Adapts to different client profiles and risk tolerances\n",
    "\n",
    "### 3. Real-World Applications\n",
    "- **Robo-Advisory Services**: Automated investment advice with human-level oversight\n",
    "- **Compliance Automation**: Systematic regulatory review processes\n",
    "- **Risk Management**: Multi-perspective evaluation of investment strategies\n",
    "- **Client Onboarding**: Scalable personalized investment planning"
   ]
  },
  {
   "cell_type": "markdown",
   "id": "8d560ad9",
   "metadata": {},
   "source": [
    "## Exercise: Create Your Own Client Scenario\n",
    "\n",
    "Try the advisory system with a different client profile:"
   ]
  },
  {
   "cell_type": "code",
   "execution_count": 10,
   "id": "0051af11",
   "metadata": {},
   "outputs": [
    {
     "name": "stdout",
     "output_type": "stream",
     "text": [
      "💪 Testing with Aggressive High-Income Professional...\n",
      "\n",
      "🔄 Advisory Round 1\n",
      "----------------------------------------\n",
      "⚠️ Compliance concerns identified, revising...\n",
      "\n",
      "🔄 Advisory Round 2\n",
      "----------------------------------------\n",
      "⚠️ Compliance concerns identified, revising...\n",
      "\n",
      "🔄 Advisory Round 3\n",
      "----------------------------------------\n",
      "⚠️ Compliance concerns identified, revising...\n",
      "\n",
      "📊 Aggressive Investor Results:\n",
      "• Advisory rounds: 3\n",
      "• Compliance approval: Pending\n",
      "• Risk-return optimization: Balanced through feedback\n"
     ]
    }
   ],
   "source": [
    "# Example: High-income aggressive investor\n",
    "aggressive_client = \"\"\"\n",
    "Client: Michael Chang\n",
    "Age: 35\n",
    "Profession: Investment Banker\n",
    "Annual Income: $250,000\n",
    "Investment Amount: $100,000\n",
    "Investment Timeline: 15+ years (early retirement goal)\n",
    "Risk Tolerance: Aggressive\n",
    "Investment Preferences:\n",
    "- Maximum growth potential\n",
    "- Comfortable with high volatility\n",
    "- International diversification\n",
    "- Alternative investments welcome\n",
    "- Tax-efficient strategies important\n",
    "\"\"\"\n",
    "\n",
    "print(\"💪 Testing with Aggressive High-Income Professional...\")\n",
    "aggressive_results = investment_advisory_system(aggressive_client, max_rounds=3)\n",
    "\n",
    "print(f\"\\n📊 Aggressive Investor Results:\")\n",
    "print(f\"• Advisory rounds: {aggressive_results['total_rounds']}\")\n",
    "print(f\"• Compliance approval: {'Achieved' if aggressive_results['approved'] else 'Pending'}\")\n",
    "print(f\"• Risk-return optimization: {'Balanced through feedback' if aggressive_results['total_rounds'] > 1 else 'Accepted as presented'}\")"
   ]
  },
  {
   "cell_type": "markdown",
   "id": "acfa4963",
   "metadata": {},
   "source": [
    "## Summary: LLM Feedback Loops in Financial Services\n",
    "\n",
    "### What We Accomplished\n",
    "✅ **AI-to-AI Collaboration**: Investment Advisor + Compliance Officer working together  \n",
    "✅ **Quality Improvement**: Recommendations enhanced through systematic feedback  \n",
    "✅ **Risk Management**: Automated compliance review and risk assessment  \n",
    "✅ **Client Customization**: Personalized advice adapted to different profiles  \n",
    "\n",
    "### Key Insight\n",
    "LLM feedback loops create **immediate quality enhancement** through AI reasoning and collaboration - no training required. This enables scalable, professional-grade financial advisory services with built-in compliance oversight.\n",
    "\n",
    "### Business Impact\n",
    "- **Scalable Advisory**: Automated personalized investment advice\n",
    "- **Risk Control**: Systematic compliance review for every recommendation  \n",
    "- **Quality Assurance**: Multi-agent validation of investment strategies\n",
    "- **Regulatory Compliance**: Built-in oversight for financial advisory standards\n",
    "\n",
    "---\n",
    "**🎯 Core Concept**: AI agents with specialized expertise collaborate to create better financial outcomes than any single AI system could achieve alone."
   ]
  }
 ],
 "metadata": {
  "kernelspec": {
   "display_name": "venv (3.13.7)",
   "language": "python",
   "name": "python3"
  },
  "language_info": {
   "codemirror_mode": {
    "name": "ipython",
    "version": 3
   },
   "file_extension": ".py",
   "mimetype": "text/x-python",
   "name": "python",
   "nbconvert_exporter": "python",
   "pygments_lexer": "ipython3",
   "version": "3.13.7"
  }
 },
 "nbformat": 4,
 "nbformat_minor": 5
}
