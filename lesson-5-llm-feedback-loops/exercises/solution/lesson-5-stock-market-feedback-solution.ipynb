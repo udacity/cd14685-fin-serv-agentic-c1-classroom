{
 "cells": [
  {
   "cell_type": "markdown",
   "id": "d499c1d8",
   "metadata": {},
   "source": [
    "# Lesson 5: Stock Market Analysis with LLM Feedback Loops - SOLUTION\n",
    "\n",
    "## Understanding LLM-to-LLM Feedback Systems\n",
    "\n",
    "This notebook demonstrates the core concept of LLM feedback loops where:\n",
    "1. **Analyst LLM** generates initial stock analysis\n",
    "2. **Critic LLM** evaluates and provides specific feedback\n",
    "3. **Analyst LLM** refines its analysis based on critic feedback\n",
    "4. Process repeats until quality criteria are met\n",
    "\n",
    "**Time Required**: 15-20 minutes\n",
    "**Context**: Stock market analysis and investment recommendations"
   ]
  },
  {
   "cell_type": "markdown",
   "id": "d960633e",
   "metadata": {},
   "source": [
    "## Setup and Configuration"
   ]
  },
  {
   "cell_type": "code",
   "execution_count": 1,
   "id": "9edd53ff",
   "metadata": {},
   "outputs": [
    {
     "name": "stdout",
     "output_type": "stream",
     "text": [
      "✅ Environment setup complete\n"
     ]
    }
   ],
   "source": [
    "# Import necessary libraries\n",
    "import os\n",
    "from dotenv import load_dotenv\n",
    "from openai import OpenAI\n",
    "import json\n",
    "import time\n",
    "\n",
    "# Load environment variables\n",
    "load_dotenv('../../.env')\n",
    "\n",
    "# Setup OpenAI client for Vocareum environment\n",
    "client = OpenAI(\n",
    "    base_url=\"https://openai.vocareum.com/v1\",\n",
    "    api_key=os.getenv(\"OPENAI_API_KEY\")\n",
    ")\n",
    "\n",
    "print(\"✅ Environment setup complete\")"
   ]
  },
  {
   "cell_type": "markdown",
   "id": "85e22e15",
   "metadata": {},
   "source": [
    "## Demo Scenario: Apple Stock Analysis\n",
    "\n",
    "We'll analyze Apple (AAPL) stock using a two-LLM feedback system:\n",
    "- **Stock Analyst LLM**: Generates investment analysis and recommendations\n",
    "- **Investment Critic LLM**: Reviews and provides improvement feedback"
   ]
  },
  {
   "cell_type": "code",
   "execution_count": 2,
   "id": "f0aaec6e",
   "metadata": {},
   "outputs": [
    {
     "name": "stdout",
     "output_type": "stream",
     "text": [
      "📊 Market data loaded for Apple (AAPL)\n",
      "\n",
      "Company: Apple Inc. (AAPL)\n",
      "Current Price: $175.50\n",
      "52-Week Range: $124.17 - $199.62\n",
      "Market Cap: $2.75T\n",
      "P/E Ratio: 28.5\n",
      "Recent News: \n",
      "- iPhone 15 launch exceeded expectations\n",
      "- Services revenue grew 16% YoY\n",
      "- China sales down 4% due to local competition\n",
      "- New Vision Pro headset launching next year\n",
      "- Strong cash position of $162B\n",
      "\n"
     ]
    }
   ],
   "source": [
    "# Sample market data for Apple (AAPL) - simplified for demo\n",
    "market_data = \"\"\"\n",
    "Company: Apple Inc. (AAPL)\n",
    "Current Price: $175.50\n",
    "52-Week Range: $124.17 - $199.62\n",
    "Market Cap: $2.75T\n",
    "P/E Ratio: 28.5\n",
    "Recent News: \n",
    "- iPhone 15 launch exceeded expectations\n",
    "- Services revenue grew 16% YoY\n",
    "- China sales down 4% due to local competition\n",
    "- New Vision Pro headset launching next year\n",
    "- Strong cash position of $162B\n",
    "\"\"\"\n",
    "\n",
    "print(\"📊 Market data loaded for Apple (AAPL)\")\n",
    "print(market_data)"
   ]
  },
  {
   "cell_type": "markdown",
   "id": "bbe681a6",
   "metadata": {},
   "source": [
    "## Step 1: Define the LLM Agents"
   ]
  },
  {
   "cell_type": "code",
   "execution_count": 3,
   "id": "89f40751",
   "metadata": {},
   "outputs": [
    {
     "name": "stdout",
     "output_type": "stream",
     "text": [
      "🤖 LLM Agents defined:\n",
      "- Stock Analyst: Generates investment analysis\n",
      "- Investment Critic: Reviews and provides feedback\n"
     ]
    }
   ],
   "source": [
    "# Stock Analyst LLM - Generates initial analysis\n",
    "ANALYST_PROMPT = \"\"\"\n",
    "You are a Senior Stock Analyst at a major investment firm. Your job is to analyze stocks and provide investment recommendations.\n",
    "\n",
    "Analyze the provided stock data and create a brief investment recommendation (2-3 paragraphs) that includes:\n",
    "1. Key strengths and risks\n",
    "2. Price target and recommendation (Buy/Hold/Sell)\n",
    "3. Investment rationale\n",
    "\n",
    "Be concise but thorough in your analysis.\n",
    "\"\"\"\n",
    "\n",
    "# Investment Critic LLM - Evaluates and provides feedback\n",
    "CRITIC_PROMPT = \"\"\"\n",
    "You are a Senior Investment Critic and Risk Manager. Your job is to review stock analyses and provide constructive feedback.\n",
    "\n",
    "Review the stock analysis and provide specific feedback on:\n",
    "1. Missing critical factors or risks\n",
    "2. Unclear or unsupported claims\n",
    "3. Areas that need more depth or evidence\n",
    "4. Overall quality score (1-10)\n",
    "\n",
    "If the analysis scores 8+ and addresses key factors comprehensively, say \"APPROVED\".\n",
    "Otherwise, provide specific improvement suggestions.\n",
    "\"\"\"\n",
    "\n",
    "print(\"🤖 LLM Agents defined:\")\n",
    "print(\"- Stock Analyst: Generates investment analysis\")\n",
    "print(\"- Investment Critic: Reviews and provides feedback\")"
   ]
  },
  {
   "cell_type": "markdown",
   "id": "95fb6adc",
   "metadata": {},
   "source": [
    "## Step 2: Helper Functions for LLM Interaction"
   ]
  },
  {
   "cell_type": "code",
   "execution_count": 4,
   "id": "ff284117",
   "metadata": {},
   "outputs": [
    {
     "name": "stdout",
     "output_type": "stream",
     "text": [
      "🔧 Helper functions created for LLM interactions\n"
     ]
    }
   ],
   "source": [
    "def get_analyst_analysis(market_data, previous_feedback=None):\n",
    "    \"\"\"Get stock analysis from the Analyst LLM\"\"\"\n",
    "    \n",
    "    user_prompt = f\"Market Data:\\n{market_data}\"\n",
    "    \n",
    "    if previous_feedback:\n",
    "        user_prompt += f\"\\n\\nPrevious Feedback to Address:\\n{previous_feedback}\"\n",
    "        user_prompt += \"\\n\\nPlease revise your analysis to address the feedback above.\"\n",
    "    \n",
    "    response = client.chat.completions.create(\n",
    "        model=\"gpt-4o-mini\",\n",
    "        messages=[\n",
    "            {\"role\": \"system\", \"content\": ANALYST_PROMPT},\n",
    "            {\"role\": \"user\", \"content\": user_prompt}\n",
    "        ],\n",
    "        temperature=0.7,\n",
    "        max_tokens=500\n",
    "    )\n",
    "    \n",
    "    return response.choices[0].message.content\n",
    "\n",
    "def get_critic_feedback(analysis, market_data):\n",
    "    \"\"\"Get feedback from the Critic LLM\"\"\"\n",
    "    \n",
    "    user_prompt = f\"\"\"\n",
    "Original Market Data:\n",
    "{market_data}\n",
    "\n",
    "Stock Analysis to Review:\n",
    "{analysis}\n",
    "\n",
    "Please provide your critical review and feedback.\n",
    "\"\"\"\n",
    "    \n",
    "    response = client.chat.completions.create(\n",
    "        model=\"gpt-4o-mini\",\n",
    "        messages=[\n",
    "            {\"role\": \"system\", \"content\": CRITIC_PROMPT},\n",
    "            {\"role\": \"user\", \"content\": user_prompt}\n",
    "        ],\n",
    "        temperature=0.3,\n",
    "        max_tokens=400\n",
    "    )\n",
    "    \n",
    "    return response.choices[0].message.content\n",
    "\n",
    "print(\"🔧 Helper functions created for LLM interactions\")"
   ]
  },
  {
   "cell_type": "markdown",
   "id": "89742348",
   "metadata": {},
   "source": [
    "## Step 3: Demonstration - Single Feedback Loop"
   ]
  },
  {
   "cell_type": "code",
   "execution_count": 5,
   "id": "8164f755",
   "metadata": {},
   "outputs": [
    {
     "name": "stdout",
     "output_type": "stream",
     "text": [
      "🚀 Starting LLM Feedback Loop Demo...\n",
      "\n",
      "============================================================\n",
      "ROUND 1: Initial Analysis\n",
      "============================================================\n",
      "📈 ANALYST OUTPUT:\n",
      "----------------------------------------\n",
      "**Investment Recommendation for Apple Inc. (AAPL)**\n",
      "\n",
      "Apple Inc. exhibits several key strengths that make it a compelling investment opportunity. The recent launch of the iPhone 15 has exceeded market expectations, indicating strong consumer demand and effective brand loyalty. Additionally, the growth in services revenue by 16% year-over-year underlines Apple's successful diversification beyond hardware sales, contributing to a more stable revenue stream. The company's robust cash position of $162 billion provides a cushion for future investments and shareholder returns, which could include buybacks or dividends. However, risks remain, particularly with a 4% decline in sales from China due to increasing local competition, which poses a threat to one of Apple’s vital markets.\n",
      "\n",
      "Given these factors, I recommend a **Buy** rating for AAPL with a price target of **$200**. This price target is based on the company's historical performance and growth potential as it continues to innovate with upcoming products like the Vision Pro headset. The current P/E ratio of 28.5 reflects investor confidence, but it is slightly above the industry average, suggesting that while the stock is premium-priced, it is justified by Apple's strong fundamentals and growth prospects. The ability to navigate market challenges, particularly in China, will be crucial for maintaining momentum, but overall, the outlook for Apple remains positive as it capitalizes on both hardware and services growth.\n",
      "\n"
     ]
    }
   ],
   "source": [
    "print(\"🚀 Starting LLM Feedback Loop Demo...\\n\")\n",
    "print(\"=\"*60)\n",
    "print(\"ROUND 1: Initial Analysis\")\n",
    "print(\"=\"*60)\n",
    "\n",
    "# Step 1: Get initial analysis from Analyst LLM\n",
    "initial_analysis = get_analyst_analysis(market_data)\n",
    "\n",
    "print(\"📈 ANALYST OUTPUT:\")\n",
    "print(\"-\" * 40)\n",
    "print(initial_analysis)\n",
    "print()"
   ]
  },
  {
   "cell_type": "code",
   "execution_count": 6,
   "id": "ade1c616",
   "metadata": {},
   "outputs": [
    {
     "name": "stdout",
     "output_type": "stream",
     "text": [
      "🔍 CRITIC REVIEW:\n",
      "----------------------------------------\n",
      "**Critical Review of Stock Analysis for Apple Inc. (AAPL)**\n",
      "\n",
      "1. **Missing Critical Factors or Risks:**\n",
      "   - The analysis does not address potential macroeconomic risks such as inflation, interest rate changes, or supply chain disruptions that could impact Apple's operations and profitability.\n",
      "   - There is no mention of regulatory risks, particularly in China and the EU, where antitrust actions could affect Apple's business practices and revenue.\n",
      "   - The analysis overlooks the potential impact of currency fluctuations, especially given Apple's significant international sales.\n",
      "\n",
      "2. **Unclear or Unsupported Claims:**\n",
      "   - The claim that the iPhone 15 launch exceeded expectations is vague. It would benefit from specific sales figures or comparisons to previous launches to substantiate this assertion.\n",
      "   - The statement about the P/E ratio being \"slightly above the industry average\" lacks context. It would be helpful to provide the specific industry average P/E ratio for comparison.\n",
      "\n",
      "3. **Areas that Need More Depth or Evidence:**\n",
      "   - The analysis could provide more detail on the implications of the 4% decline in China sales. What specific local competitors are affecting Apple, and how might this trend evolve?\n",
      "   - A deeper exploration of the services segment would strengthen the analysis. What specific services are driving growth, and how sustainable is this trend?\n",
      "   - The potential impact of the upcoming Vision Pro headset launch should be elaborated on. What market share is Apple targeting, and what are the expected sales figures?\n",
      "\n",
      "4. **Overall Quality Score: 6/10**\n",
      "   - The analysis presents a positive outlook for Apple but lacks depth in addressing critical risks and providing supporting evidence for claims. To improve, the analysis should incorporate a more comprehensive risk assessment, clearer data points, and a more detailed examination of growth drivers and challenges.\n",
      "\n",
      "**Improvement Suggestions:**\n",
      "- Include a thorough risk analysis that encompasses macroeconomic factors, regulatory challenges, and competitive pressures.\n",
      "- Provide specific data to support claims about product launches and financial metrics.\n",
      "- Expand on\n",
      "\n",
      "✅ Status: NEEDS REVISION\n"
     ]
    }
   ],
   "source": [
    "# Step 2: Get feedback from Critic LLM\n",
    "print(\"🔍 CRITIC REVIEW:\")\n",
    "print(\"-\" * 40)\n",
    "\n",
    "critic_feedback = get_critic_feedback(initial_analysis, market_data)\n",
    "print(critic_feedback)\n",
    "print()\n",
    "\n",
    "# Check if approved\n",
    "is_approved = \"APPROVED\" in critic_feedback.upper()\n",
    "print(f\"✅ Status: {'APPROVED' if is_approved else 'NEEDS REVISION'}\")"
   ]
  },
  {
   "cell_type": "markdown",
   "id": "7b5ba248",
   "metadata": {},
   "source": [
    "## Step 4: Feedback Loop - Iterative Improvement"
   ]
  },
  {
   "cell_type": "code",
   "execution_count": 7,
   "id": "43609452",
   "metadata": {},
   "outputs": [
    {
     "name": "stdout",
     "output_type": "stream",
     "text": [
      "\n",
      "============================================================\n",
      "ROUND 2: Revised Analysis Based on Feedback\n",
      "============================================================\n",
      "📈 REVISED ANALYST OUTPUT:\n",
      "----------------------------------------\n",
      "**Investment Recommendation for Apple Inc. (AAPL)**\n",
      "\n",
      "Apple Inc. (AAPL) presents an attractive investment opportunity, driven by its strong product portfolio, particularly bolstered by the successful iPhone 15 launch and robust growth in its services segment, which increased 16% year-over-year. The company boasts a solid cash position of $162 billion, providing ample liquidity for innovation and potential acquisitions. However, investors should be mindful of the 4% decline in sales from China due to intensifying local competition, which could pose a long-term threat to market share in one of its largest markets. Additionally, macroeconomic risks such as inflation, rising interest rates, and ongoing supply chain disruptions, as well as regulatory pressures in China and the EU, may impact profitability.\n",
      "\n",
      "Considering these factors, we recommend a **Hold** rating for AAPL with a price target of $180, reflecting a moderate upside potential from its current price of $175.50. While the P/E ratio of 28.5 is slightly above the industry average (approximately 25), it is justified by Apple's strong brand loyalty and innovative product pipeline. The anticipated launch of the Vision Pro headset next year is a key growth driver, potentially capturing market share in the augmented reality space, although specific sales projections remain unquantified.\n",
      "\n",
      "In summary, while AAPL exhibits strong fundamentals and growth potential, the presence of significant risks necessitates a cautious approach. Investors should monitor competitive dynamics in China, potential regulatory changes, and overall macroeconomic conditions that may influence the stock's performance in the near to medium term. Ahold recommendation allows for continued observation of these factors while benefiting from Apple's strong market presence and cash reserves.\n",
      "\n",
      "🔍 FINAL CRITIC REVIEW:\n",
      "----------------------------------------\n",
      "**Feedback on Stock Analysis for Apple Inc. (AAPL)**\n",
      "\n",
      "1. **Missing Critical Factors or Risks:**\n",
      "   - The analysis mentions macroeconomic risks but does not quantify their potential impact on Apple's earnings or market position. For instance, how might rising interest rates specifically affect consumer spending on premium products like iPhones?\n",
      "   - There is no discussion of potential risks from supply chain disruptions beyond a general mention. Given Apple's reliance on global supply chains, a more detailed examination of specific vulnerabilities (e.g., reliance on certain regions or suppliers) would be beneficial.\n",
      "   - The analysis lacks consideration of currency risk, especially given Apple's significant international sales. Fluctuations in exchange rates could impact revenue and profitability.\n",
      "\n",
      "2. **Unclear or Unsupported Claims:**\n",
      "   - The statement that the P/E ratio of 28.5 is \"justified\" by brand loyalty and innovation is vague. It would strengthen the analysis to provide comparisons with specific competitors or historical P/E ratios for Apple to contextualize this claim.\n",
      "   - The assertion that the Vision Pro headset will be a \"key growth driver\" is not backed by any data or market analysis. It would be helpful to include insights on market size, competition, or consumer interest in augmented reality products.\n",
      "\n",
      "3. **Areas That Need More Depth or Evidence:**\n",
      "   - The analysis could benefit from a deeper dive into the implications of the 4% decline in China sales. What are the specific competitive threats? Are there any strategic responses Apple is implementing to counteract this decline?\n",
      "   - More detail on the services segment's growth would enhance the analysis. What specific services are driving this growth? How does this compare to competitors in the services space?\n",
      "   - The price target of $180 lacks a clear rationale. A more detailed breakdown of how this target was derived, including valuation methods or comparisons with peer companies, would provide more credibility.\n",
      "\n",
      "4. **Overall Quality Score: 6/10**\n",
      "   - The analysis covers several important aspects\n",
      "\n",
      "✅ Final Status: NEEDS FURTHER REVISION\n"
     ]
    }
   ],
   "source": [
    "if not is_approved:\n",
    "    print(\"\\n\" + \"=\"*60)\n",
    "    print(\"ROUND 2: Revised Analysis Based on Feedback\")\n",
    "    print(\"=\"*60)\n",
    "    \n",
    "    # Step 3: Get revised analysis incorporating feedback\n",
    "    revised_analysis = get_analyst_analysis(market_data, critic_feedback)\n",
    "    \n",
    "    print(\"📈 REVISED ANALYST OUTPUT:\")\n",
    "    print(\"-\" * 40)\n",
    "    print(revised_analysis)\n",
    "    print()\n",
    "    \n",
    "    # Step 4: Get final review\n",
    "    print(\"🔍 FINAL CRITIC REVIEW:\")\n",
    "    print(\"-\" * 40)\n",
    "    \n",
    "    final_feedback = get_critic_feedback(revised_analysis, market_data)\n",
    "    print(final_feedback)\n",
    "    print()\n",
    "    \n",
    "    final_approved = \"APPROVED\" in final_feedback.upper()\n",
    "    print(f\"✅ Final Status: {'APPROVED' if final_approved else 'NEEDS FURTHER REVISION'}\")\n",
    "else:\n",
    "    print(\"\\n🎉 Analysis approved on first iteration!\")"
   ]
  },
  {
   "cell_type": "markdown",
   "id": "a37f1989",
   "metadata": {},
   "source": [
    "## Step 5: Complete Feedback Loop Function"
   ]
  },
  {
   "cell_type": "code",
   "execution_count": 8,
   "id": "fcf91a53",
   "metadata": {},
   "outputs": [
    {
     "name": "stdout",
     "output_type": "stream",
     "text": [
      "🔧 Complete feedback loop function ready\n"
     ]
    }
   ],
   "source": [
    "def stock_analysis_with_feedback(market_data, max_iterations=3):\n",
    "    \"\"\"\n",
    "    Complete LLM feedback loop for stock analysis\n",
    "    \n",
    "    Returns:\n",
    "        dict: Final analysis results and iteration history\n",
    "    \"\"\"\n",
    "    \n",
    "    results = {\n",
    "        'iterations': [],\n",
    "        'final_analysis': None,\n",
    "        'approved': False,\n",
    "        'total_iterations': 0\n",
    "    }\n",
    "    \n",
    "    analysis = None\n",
    "    feedback = None\n",
    "    \n",
    "    for iteration in range(max_iterations):\n",
    "        print(f\"\\n🔄 Iteration {iteration + 1}\")\n",
    "        print(\"-\" * 30)\n",
    "        \n",
    "        # Get analysis (initial or revised)\n",
    "        analysis = get_analyst_analysis(market_data, feedback)\n",
    "        \n",
    "        # Get critic feedback\n",
    "        feedback = get_critic_feedback(analysis, market_data)\n",
    "        \n",
    "        # Store iteration results\n",
    "        results['iterations'].append({\n",
    "            'analysis': analysis,\n",
    "            'feedback': feedback,\n",
    "            'approved': \"APPROVED\" in feedback.upper()\n",
    "        })\n",
    "        \n",
    "        # Check if approved\n",
    "        if \"APPROVED\" in feedback.upper():\n",
    "            print(\"✅ Analysis APPROVED!\")\n",
    "            results['approved'] = True\n",
    "            break\n",
    "        else:\n",
    "            print(\"🔄 Needs revision, continuing...\")\n",
    "    \n",
    "    results['final_analysis'] = analysis\n",
    "    results['total_iterations'] = len(results['iterations'])\n",
    "    \n",
    "    return results\n",
    "\n",
    "print(\"🔧 Complete feedback loop function ready\")"
   ]
  },
  {
   "cell_type": "markdown",
   "id": "8dba4867",
   "metadata": {},
   "source": [
    "## Step 6: Test Different Scenarios"
   ]
  },
  {
   "cell_type": "code",
   "execution_count": 9,
   "id": "8a7e7d9f",
   "metadata": {},
   "outputs": [
    {
     "name": "stdout",
     "output_type": "stream",
     "text": [
      "🧪 Testing with more challenging scenario: Tesla (TSLA)\n",
      "This scenario has mixed signals and should trigger more feedback loops...\n",
      "\n",
      "\n",
      "🔄 Iteration 1\n",
      "------------------------------\n",
      "🔄 Needs revision, continuing...\n",
      "\n",
      "🔄 Iteration 2\n",
      "------------------------------\n",
      "🔄 Needs revision, continuing...\n",
      "\n",
      "📊 Summary:\n",
      "- Total iterations: 2\n",
      "- Final approval: False\n",
      "- Improvement demonstrated: Yes\n"
     ]
    }
   ],
   "source": [
    "# Test with a more challenging scenario\n",
    "challenging_data = \"\"\"\n",
    "Company: Tesla Inc. (TSLA)\n",
    "Current Price: $248.50\n",
    "52-Week Range: $138.80 - $299.29\n",
    "Market Cap: $790B\n",
    "P/E Ratio: 65.2\n",
    "Recent News:\n",
    "- Q3 deliveries missed expectations by 2%\n",
    "- Cybertruck production delays continue\n",
    "- FSD (Full Self Driving) beta expanding\n",
    "- Price cuts in China market\n",
    "- Musk selling more shares for Twitter\n",
    "- Competition increasing from Ford, GM\n",
    "\"\"\"\n",
    "\n",
    "print(\"🧪 Testing with more challenging scenario: Tesla (TSLA)\")\n",
    "print(\"This scenario has mixed signals and should trigger more feedback loops...\\n\")\n",
    "\n",
    "tesla_results = stock_analysis_with_feedback(challenging_data, max_iterations=2)\n",
    "\n",
    "print(f\"\\n📊 Summary:\")\n",
    "print(f\"- Total iterations: {tesla_results['total_iterations']}\")\n",
    "print(f\"- Final approval: {tesla_results['approved']}\")\n",
    "print(f\"- Improvement demonstrated: {'Yes' if tesla_results['total_iterations'] > 1 else 'No'}\")"
   ]
  },
  {
   "cell_type": "markdown",
   "id": "0306c60d",
   "metadata": {},
   "source": [
    "## Key Concepts Demonstrated\n",
    "\n",
    "### 1. LLM-to-LLM Feedback Loop\n",
    "- **Analyst LLM** generates initial analysis\n",
    "- **Critic LLM** evaluates and provides specific feedback\n",
    "- **Analyst LLM** incorporates feedback for improvement\n",
    "- Process continues until quality criteria are met\n",
    "\n",
    "### 2. Real-World Applications\n",
    "- **Investment Research**: Multi-step analysis refinement\n",
    "- **Risk Assessment**: Peer review and validation\n",
    "- **Report Generation**: Quality control and improvement\n",
    "- **Decision Support**: Collaborative AI reasoning\n",
    "\n",
    "### 3. Benefits of This Approach\n",
    "- **Quality Improvement**: Iterative refinement leads to better outputs\n",
    "- **Error Reduction**: Critic LLM catches missing factors or errors\n",
    "- **Consistency**: Systematic evaluation criteria\n",
    "- **Transparency**: Clear improvement trail and reasoning"
   ]
  },
  {
   "cell_type": "markdown",
   "id": "188871b5",
   "metadata": {},
   "source": [
    "## Summary\n",
    "\n",
    "This solution illustrated the core concept of **LLM feedback loops** in financial analysis:\n",
    "\n",
    "✅ **LLM-to-LLM Communication**: One LLM evaluates another's output  \n",
    "✅ **Iterative Improvement**: Analysis gets refined through feedback cycles  \n",
    "✅ **Quality Control**: Systematic evaluation criteria and approval process  \n",
    "✅ **Real-World Application**: Stock analysis with practical financial context  \n",
    "\n",
    "**Key Takeaway**: Unlike traditional ML training, this approach uses LLMs to provide contextual, reasoning-based feedback that leads to immediate output improvement - demonstrating true AI-to-AI collaboration in financial decision-making.\n",
    "\n",
    "---\n",
    "*Time: ~15-20 minutes | Context: Stock Market Analysis | Concept: LLM Feedback Loops*"
   ]
  }
 ],
 "metadata": {
  "kernelspec": {
   "display_name": "venv (3.13.7)",
   "language": "python",
   "name": "python3"
  },
  "language_info": {
   "codemirror_mode": {
    "name": "ipython",
    "version": 3
   },
   "file_extension": ".py",
   "mimetype": "text/x-python",
   "name": "python",
   "nbconvert_exporter": "python",
   "pygments_lexer": "ipython3",
   "version": "3.13.7"
  }
 },
 "nbformat": 4,
 "nbformat_minor": 5
}
