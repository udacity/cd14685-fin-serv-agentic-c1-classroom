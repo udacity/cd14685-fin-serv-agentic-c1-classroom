{
 "cells": [
  {
   "cell_type": "markdown",
   "id": "f1351f30",
   "metadata": {},
   "source": [
    "# Lesson 5: Stock Market Analysis with LLM Feedback Loops\n",
    "\n",
    "## Understanding LLM-to-LLM Feedback Systems\n",
    "\n",
    "This notebook demonstrates the core concept of LLM feedback loops where:\n",
    "1. **Analyst LLM** generates initial stock analysis\n",
    "2. **Critic LLM** evaluates and provides specific feedback\n",
    "3. **Analyst LLM** refines its analysis based on critic feedback\n",
    "4. Process repeats until quality criteria are met\n",
    "\n",
    "**Time Required**: 15-20 minutes\n",
    "**Context**: Stock market analysis and investment recommendations"
   ]
  },
  {
   "cell_type": "markdown",
   "id": "41cde1e9",
   "metadata": {},
   "source": [
    "## Setup and Configuration"
   ]
  },
  {
   "cell_type": "code",
   "execution_count": null,
   "id": "3422551a",
   "metadata": {},
   "outputs": [],
   "source": [
    "# TODO: Import necessary libraries\n",
    "# Hint: You'll need os, dotenv, openai, json, time\n",
    "\n",
    "# TODO: Load environment variables\n",
    "\n",
    "# TODO: Setup OpenAI client for Vocareum environment\n",
    "# Remember to use base_url=\"https://openai.vocareum.com/v1\"\n",
    "\n",
    "print(\"✅ Environment setup complete\")"
   ]
  },
  {
   "cell_type": "markdown",
   "id": "8ffaf736",
   "metadata": {},
   "source": [
    "## Demo Scenario: Apple Stock Analysis\n",
    "\n",
    "We'll analyze Apple (AAPL) stock using a two-LLM feedback system:\n",
    "- **Stock Analyst LLM**: Generates investment analysis and recommendations\n",
    "- **Investment Critic LLM**: Reviews and provides improvement feedback"
   ]
  },
  {
   "cell_type": "code",
   "execution_count": null,
   "id": "4c1f1136",
   "metadata": {},
   "outputs": [],
   "source": [
    "# Sample market data for Apple (AAPL) - simplified for demo\n",
    "market_data = \"\"\"\n",
    "Company: Apple Inc. (AAPL)\n",
    "Current Price: $175.50\n",
    "52-Week Range: $124.17 - $199.62\n",
    "Market Cap: $2.75T\n",
    "P/E Ratio: 28.5\n",
    "Recent News: \n",
    "- iPhone 15 launch exceeded expectations\n",
    "- Services revenue grew 16% YoY\n",
    "- China sales down 4% due to local competition\n",
    "- New Vision Pro headset launching next year\n",
    "- Strong cash position of $162B\n",
    "\"\"\"\n",
    "\n",
    "print(\"📊 Market data loaded for Apple (AAPL)\")\n",
    "print(market_data)"
   ]
  },
  {
   "cell_type": "markdown",
   "id": "8f881442",
   "metadata": {},
   "source": [
    "## Step 1: Define the LLM Agents"
   ]
  },
  {
   "cell_type": "code",
   "execution_count": null,
   "id": "30a64a89",
   "metadata": {},
   "outputs": [],
   "source": [
    "# TODO: Define the Stock Analyst LLM prompt\n",
    "# This LLM should act as a Senior Stock Analyst\n",
    "# It should analyze stocks and provide investment recommendations\n",
    "# Include instructions for: key strengths/risks, price target, recommendation\n",
    "ANALYST_PROMPT = \"\"\"\n",
    "# TODO: Write your analyst prompt here\n",
    "\"\"\"\n",
    "\n",
    "# TODO: Define the Investment Critic LLM prompt  \n",
    "# This LLM should act as a Senior Investment Critic and Risk Manager\n",
    "# It should review analyses and provide constructive feedback\n",
    "# Include criteria for approval (quality score 8+) and specific feedback areas\n",
    "CRITIC_PROMPT = \"\"\"\n",
    "# TODO: Write your critic prompt here\n",
    "\"\"\"\n",
    "\n",
    "print(\"🤖 LLM Agents defined:\")\n",
    "print(\"- Stock Analyst: Generates investment analysis\")\n",
    "print(\"- Investment Critic: Reviews and provides feedback\")"
   ]
  },
  {
   "cell_type": "markdown",
   "id": "6ebf0cf0",
   "metadata": {},
   "source": [
    "## Step 2: Helper Functions for LLM Interaction"
   ]
  },
  {
   "cell_type": "code",
   "execution_count": null,
   "id": "49cf5499",
   "metadata": {},
   "outputs": [],
   "source": [
    "def get_analyst_analysis(market_data, previous_feedback=None):\n",
    "    \"\"\"Get stock analysis from the Analyst LLM\"\"\"\n",
    "    \n",
    "    # TODO: Create user prompt with market data\n",
    "    user_prompt = f\"Market Data:\\n{market_data}\"\n",
    "    \n",
    "    # TODO: If there's previous feedback, add it to the prompt\n",
    "    # Hint: Check if previous_feedback exists and append instructions to revise\n",
    "    \n",
    "    # TODO: Make API call to get analysis\n",
    "    # Use model=\"gpt-4o-mini\", temperature=0.7, max_tokens=500\n",
    "    response = None  # Replace with actual API call\n",
    "    \n",
    "    return response.choices[0].message.content\n",
    "\n",
    "def get_critic_feedback(analysis, market_data):\n",
    "    \"\"\"Get feedback from the Critic LLM\"\"\"\n",
    "    \n",
    "    # TODO: Create user prompt with both market data and analysis to review\n",
    "    user_prompt = f\"\"\"\n",
    "    # TODO: Format the prompt properly\n",
    "    \"\"\"\n",
    "    \n",
    "    # TODO: Make API call to get feedback\n",
    "    # Use model=\"gpt-4o-mini\", temperature=0.3, max_tokens=400\n",
    "    response = None  # Replace with actual API call\n",
    "    \n",
    "    return response.choices[0].message.content\n",
    "\n",
    "print(\"🔧 Helper functions created for LLM interactions\")"
   ]
  },
  {
   "cell_type": "markdown",
   "id": "bf0af91b",
   "metadata": {},
   "source": [
    "## Step 3: Demonstration - Single Feedback Loop"
   ]
  },
  {
   "cell_type": "code",
   "execution_count": null,
   "id": "4a28b5dc",
   "metadata": {},
   "outputs": [],
   "source": [
    "print(\"🚀 Starting LLM Feedback Loop Demo...\\n\")\n",
    "print(\"=\"*60)\n",
    "print(\"ROUND 1: Initial Analysis\")\n",
    "print(\"=\"*60)\n",
    "\n",
    "# TODO: Get initial analysis from Analyst LLM\n",
    "initial_analysis = None  # Replace with function call\n",
    "\n",
    "print(\"📈 ANALYST OUTPUT:\")\n",
    "print(\"-\" * 40)\n",
    "print(initial_analysis)\n",
    "print()"
   ]
  },
  {
   "cell_type": "code",
   "execution_count": null,
   "id": "42fe1d0f",
   "metadata": {},
   "outputs": [],
   "source": [
    "# TODO: Get feedback from Critic LLM\n",
    "print(\"🔍 CRITIC REVIEW:\")\n",
    "print(\"-\" * 40)\n",
    "\n",
    "critic_feedback = None  # Replace with function call\n",
    "print(critic_feedback)\n",
    "print()\n",
    "\n",
    "# TODO: Check if the analysis was approved\n",
    "# Hint: Look for \"APPROVED\" in the feedback text\n",
    "is_approved = False  # Replace with actual check\n",
    "print(f\"✅ Status: {'APPROVED' if is_approved else 'NEEDS REVISION'}\")"
   ]
  },
  {
   "cell_type": "markdown",
   "id": "b89ac07f",
   "metadata": {},
   "source": [
    "## Step 4: Feedback Loop - Iterative Improvement"
   ]
  },
  {
   "cell_type": "code",
   "execution_count": null,
   "id": "00edd3ba",
   "metadata": {},
   "outputs": [],
   "source": [
    "# TODO: Implement the revision logic\n",
    "# If not approved, get revised analysis and final review\n",
    "if not is_approved:\n",
    "    print(\"\\n\" + \"=\"*60)\n",
    "    print(\"ROUND 2: Revised Analysis Based on Feedback\")\n",
    "    print(\"=\"*60)\n",
    "    \n",
    "    # TODO: Get revised analysis incorporating feedback\n",
    "    revised_analysis = None  # Replace with function call\n",
    "    \n",
    "    print(\"📈 REVISED ANALYST OUTPUT:\")\n",
    "    print(\"-\" * 40)\n",
    "    print(revised_analysis)\n",
    "    print()\n",
    "    \n",
    "    # TODO: Get final review\n",
    "    print(\"🔍 FINAL CRITIC REVIEW:\")\n",
    "    print(\"-\" * 40)\n",
    "    \n",
    "    final_feedback = None  # Replace with function call\n",
    "    print(final_feedback)\n",
    "    print()\n",
    "    \n",
    "    # TODO: Check final approval status\n",
    "    final_approved = False  # Replace with actual check\n",
    "    print(f\"✅ Final Status: {'APPROVED' if final_approved else 'NEEDS FURTHER REVISION'}\")\n",
    "else:\n",
    "    print(\"\\n🎉 Analysis approved on first iteration!\")"
   ]
  },
  {
   "cell_type": "markdown",
   "id": "6303f7df",
   "metadata": {},
   "source": [
    "## Step 5: Complete Feedback Loop Function"
   ]
  },
  {
   "cell_type": "code",
   "execution_count": null,
   "id": "31a5444e",
   "metadata": {},
   "outputs": [],
   "source": [
    "def stock_analysis_with_feedback(market_data, max_iterations=3):\n",
    "    \"\"\"\n",
    "    Complete LLM feedback loop for stock analysis\n",
    "    \n",
    "    Returns:\n",
    "        dict: Final analysis results and iteration history\n",
    "    \"\"\"\n",
    "    \n",
    "    # TODO: Initialize results dictionary\n",
    "    results = {\n",
    "        'iterations': [],\n",
    "        'final_analysis': None,\n",
    "        'approved': False,\n",
    "        'total_iterations': 0\n",
    "    }\n",
    "    \n",
    "    analysis = None\n",
    "    feedback = None\n",
    "    \n",
    "    # TODO: Implement the feedback loop\n",
    "    for iteration in range(max_iterations):\n",
    "        print(f\"\\n🔄 Iteration {iteration + 1}\")\n",
    "        print(\"-\" * 30)\n",
    "        \n",
    "        # TODO: Get analysis (initial or revised)\n",
    "        \n",
    "        # TODO: Get critic feedback\n",
    "        \n",
    "        # TODO: Store iteration results\n",
    "        \n",
    "        # TODO: Check if approved and break if so\n",
    "        \n",
    "        # TODO: Continue if not approved\n",
    "    \n",
    "    # TODO: Set final results\n",
    "    \n",
    "    return results\n",
    "\n",
    "print(\"🔧 Complete feedback loop function ready\")"
   ]
  },
  {
   "cell_type": "markdown",
   "id": "65988f29",
   "metadata": {},
   "source": [
    "## Step 6: Test Different Scenarios"
   ]
  },
  {
   "cell_type": "code",
   "execution_count": null,
   "id": "8376e731",
   "metadata": {},
   "outputs": [],
   "source": [
    "# Test with a more challenging scenario\n",
    "challenging_data = \"\"\"\n",
    "Company: Tesla Inc. (TSLA)\n",
    "Current Price: $248.50\n",
    "52-Week Range: $138.80 - $299.29\n",
    "Market Cap: $790B\n",
    "P/E Ratio: 65.2\n",
    "Recent News:\n",
    "- Q3 deliveries missed expectations by 2%\n",
    "- Cybertruck production delays continue\n",
    "- FSD (Full Self Driving) beta expanding\n",
    "- Price cuts in China market\n",
    "- Musk selling more shares for Twitter\n",
    "- Competition increasing from Ford, GM\n",
    "\"\"\"\n",
    "\n",
    "print(\"🧪 Testing with more challenging scenario: Tesla (TSLA)\")\n",
    "print(\"This scenario has mixed signals and should trigger more feedback loops...\\n\")\n",
    "\n",
    "# TODO: Test the complete feedback loop function\n",
    "# tesla_results = stock_analysis_with_feedback(challenging_data, max_iterations=2)\n",
    "\n",
    "# TODO: Print summary results\n",
    "# print(f\"\\n📊 Summary:\")\n",
    "# print(f\"- Total iterations: {tesla_results['total_iterations']}\")\n",
    "# print(f\"- Final approval: {tesla_results['approved']}\")\n",
    "# print(f\"- Improvement demonstrated: {'Yes' if tesla_results['total_iterations'] > 1 else 'No'}\")"
   ]
  },
  {
   "cell_type": "markdown",
   "id": "6d54c823",
   "metadata": {},
   "source": [
    "## Key Concepts Demonstrated\n",
    "\n",
    "### 1. LLM-to-LLM Feedback Loop\n",
    "- **Analyst LLM** generates initial analysis\n",
    "- **Critic LLM** evaluates and provides specific feedback\n",
    "- **Analyst LLM** incorporates feedback for improvement\n",
    "- Process continues until quality criteria are met\n",
    "\n",
    "### 2. Real-World Applications\n",
    "- **Investment Research**: Multi-step analysis refinement\n",
    "- **Risk Assessment**: Peer review and validation\n",
    "- **Report Generation**: Quality control and improvement\n",
    "- **Decision Support**: Collaborative AI reasoning\n",
    "\n",
    "### 3. Benefits of This Approach\n",
    "- **Quality Improvement**: Iterative refinement leads to better outputs\n",
    "- **Error Reduction**: Critic LLM catches missing factors or errors\n",
    "- **Consistency**: Systematic evaluation criteria\n",
    "- **Transparency**: Clear improvement trail and reasoning"
   ]
  },
  {
   "cell_type": "markdown",
   "id": "45102457",
   "metadata": {},
   "source": [
    "## Exercise: Try Your Own Stock\n",
    "\n",
    "Now try the feedback loop with a different stock scenario:"
   ]
  },
  {
   "cell_type": "code",
   "execution_count": null,
   "id": "04e0f6f8",
   "metadata": {},
   "outputs": [],
   "source": [
    "# TODO: Create your own stock scenario and test the feedback loop\n",
    "your_stock_data = \"\"\"\n",
    "Company: [Your Company Name]\n",
    "Current Price: $X.XX\n",
    "52-Week Range: $X.XX - $X.XX\n",
    "Market Cap: $XB\n",
    "P/E Ratio: X.X\n",
    "Recent News:\n",
    "- [Add 3-5 relevant news items]\n",
    "- [Mix positive and negative factors]\n",
    "- [Include some ambiguous information]\n",
    "\"\"\"\n",
    "\n",
    "# TODO: Test with your stock data\n",
    "# your_results = stock_analysis_with_feedback(your_stock_data)\n",
    "# print(f\"Your stock analysis completed in {your_results['total_iterations']} iterations\")\n",
    "\n",
    "print(\"💡 Create your own stock scenario above and test the feedback system!\")"
   ]
  },
  {
   "cell_type": "markdown",
   "id": "2f957f9e",
   "metadata": {},
   "source": [
    "## Summary\n",
    "\n",
    "This exercise illustrated the core concept of **LLM feedback loops** in financial analysis:\n",
    "\n",
    "✅ **LLM-to-LLM Communication**: One LLM evaluates another's output  \n",
    "✅ **Iterative Improvement**: Analysis gets refined through feedback cycles  \n",
    "✅ **Quality Control**: Systematic evaluation criteria and approval process  \n",
    "✅ **Real-World Application**: Stock analysis with practical financial context  \n",
    "\n",
    "**Key Takeaway**: Unlike traditional ML training, this approach uses LLMs to provide contextual, reasoning-based feedback that leads to immediate output improvement - demonstrating true AI-to-AI collaboration in financial decision-making.\n",
    "\n",
    "---\n",
    "*Time: ~15-20 minutes | Context: Stock Market Analysis | Concept: LLM Feedback Loops*"
   ]
  }
 ],
 "metadata": {
  "language_info": {
   "name": "python"
  }
 },
 "nbformat": 4,
 "nbformat_minor": 5
}
