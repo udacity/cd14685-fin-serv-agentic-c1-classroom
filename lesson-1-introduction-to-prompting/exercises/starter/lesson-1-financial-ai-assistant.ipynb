{
 "cells": [
  {
   "cell_type": "markdown",
   "id": "fbd54773",
   "metadata": {},
   "source": [
    "# Lesson 1: Personal Finance Advisory AI Assistant - SOLUTION\n",
    "\n",
    "## Role-Based Prompting for Personal Financial Planning\n",
    "\n",
    "This is the completed solution for the personal finance advisory AI assistant exercise, showing best practices for role-based prompting in personal financial planning contexts."
   ]
  },
  {
   "cell_type": "markdown",
   "id": "760e3e64",
   "metadata": {},
   "source": [
    "## Outline:\n",
    "\n",
    "- **Plain Prompt**: Start with a basic prompt without any specific role defined\n",
    "- **Certified Financial Planner (CFP) Persona**: Ask the AI to role-play as a comprehensive financial planner\n",
    "- **Define Persona-Specific Expertise**: Define professional expertise and specialization areas\n",
    "- **Communication Style Refinement**: Add tone and style specifications for client-facing financial advice\n",
    "- **Investment Advisor Persona**: Create an investment-focused financial advisor persona  \n",
    "- **Multi-Scenario Testing**: Test personas with various personal finance scenarios\n",
    "- **Reflection & Best Practices**: Evaluate effectiveness of different persona approaches"
   ]
  },
  {
   "cell_type": "code",
   "execution_count": null,
   "id": "d428e021",
   "metadata": {},
   "outputs": [],
   "source": [
    "# Import necessary libraries\n",
    "import os\n",
    "from dotenv import load_dotenv\n",
    "from openai import OpenAI\n",
    "from IPython.display import Markdown, display\n",
    "import json\n",
    "\n",
    "# Load environment variables from the root .env file\n",
    "load_dotenv('../../.env')"
   ]
  },
  {
   "cell_type": "code",
   "execution_count": null,
   "id": "013191a5",
   "metadata": {},
   "outputs": [],
   "source": [
    "# Setup OpenAI client for Vocareum environment\n",
    "client = OpenAI(\n",
    "    base_url=\"https://openai.vocareum.com/v1\",\n",
    "    api_key=os.getenv(\"OPENAI_API_KEY\")  # Load from .env file\n",
    ")\n",
    "\n",
    "def get_completion(system_prompt, user_prompt, model=\"gpt-4o-mini\"):\n",
    "    \"\"\"\n",
    "    Function to get a completion from the OpenAI API.\n",
    "    Args:\n",
    "        system_prompt: The system prompt\n",
    "        user_prompt: The user prompt  \n",
    "        model: The model to use (default is gpt-4o-mini)\n",
    "    Returns:\n",
    "        completion text\n",
    "    \"\"\"\n",
    "    try:\n",
    "        response = client.chat.completions.create(\n",
    "            model=model,\n",
    "            messages=[\n",
    "                {\"role\": \"system\", \"content\": system_prompt},\n",
    "                {\"role\": \"user\", \"content\": user_prompt},\n",
    "            ],\n",
    "            temperature=0.7,\n",
    "        )\n",
    "        return response.choices[0].message.content\n",
    "    except Exception as e:\n",
    "        return f\"An error occurred: {e}\""
   ]
  },
  {
   "cell_type": "markdown",
   "id": "07c7af99",
   "metadata": {},
   "source": [
    "## Personal Finance Scenario\n",
    "\n",
    "We'll use this client scenario throughout the exercise to test different AI personas:"
   ]
  },
  {
   "cell_type": "code",
   "execution_count": null,
   "id": "d57a5a18",
   "metadata": {},
   "outputs": [],
   "source": [
    "# Personal finance scenario for testing different advisor personas\n",
    "client_scenario = \"\"\"\n",
    "Client Profile: Alex Chen, 28-year-old Software Engineer\n",
    "- Annual Income: $95,000\n",
    "- Recent Situation: Just received a $15,000 bonus (after taxes)\n",
    "- Current Financial Status:\n",
    "  * Credit card debt: $8,000 at 18% APR\n",
    "  * Emergency savings: $2,000\n",
    "  * 401(k) contribution: 6% (company matches 4%)\n",
    "  * Monthly expenses: ~$4,200\n",
    "  * Student loan: $25,000 at 5.2% APR\n",
    "  * No other investments\n",
    "\n",
    "Client's Question: \"I just got this bonus and I'm not sure what to do with it. \n",
    "I know I should pay off debt, but I also want to start investing and build up \n",
    "my emergency fund. What would you recommend as the best use of this money?\"\n",
    "\n",
    "Additional Context:\n",
    "- Alex is financially responsible but new to investing\n",
    "- Job is stable with good growth prospects\n",
    "- Lives in a moderate cost-of-living area\n",
    "- Plans to buy a house in 3-5 years\n",
    "\"\"\"\n",
    "\n",
    "print(\"Client scenario loaded for testing different financial advisor personas...\")"
   ]
  },
  {
   "cell_type": "markdown",
   "id": "aee6593f",
   "metadata": {},
   "source": [
    "## 1. Plain Prompt\n",
    "\n",
    "First, let's see what the model produces with a basic prompt before asking it to role-play as a financial professional."
   ]
  },
  {
   "cell_type": "code",
   "execution_count": null,
   "id": "b1743533",
   "metadata": {},
   "outputs": [],
   "source": [
    "# Basic prompt without specific role\n",
    "control_system_prompt = \"You are a helpful financial assistant.\"\n",
    "\n",
    "response = get_completion(control_system_prompt, client_scenario)\n",
    "print(\"=== BASIC PROMPT RESPONSE ===\")\n",
    "print(response)"
   ]
  },
  {
   "cell_type": "markdown",
   "id": "b0051869",
   "metadata": {},
   "source": [
    "## 2. Certified Financial Planner (CFP) Persona\n",
    "\n",
    "First, let's see what the model produces with a basic prompt asking it to role-play as a certified financial planner."
   ]
  },
  {
   "cell_type": "code",
   "execution_count": null,
   "id": "6168ba21",
   "metadata": {},
   "outputs": [],
   "source": [
    "# TODO: Fill in the missing parts marked with ++++++++++++\n",
    "# Your Task: Change this line to give the AI the basic role of a Certified Financial Planner (CFP)\n",
    "# For example: cfp_system_prompt = \"You are a Certified Financial Planner (CFP) with expertise in comprehensive financial planning.\"\n",
    "# Hint: Think about what expertise a CFP would have for helping young professionals with financial decisions\n",
    "cfp_system_prompt = \"++++++++++++\"\n",
    "\n",
    "response = get_completion(cfp_system_prompt, client_scenario)\n",
    "print(\"=== CERTIFIED FINANCIAL PLANNER RESPONSE ===\")\n",
    "print(response)"
   ]
  },
  {
   "cell_type": "markdown",
   "id": "2832c890",
   "metadata": {},
   "source": [
    "## 3. Define Persona-Specific Expertise\n",
    "\n",
    "Now, let's enhance the prompt by adding specific expertise about the CFP's professional background and knowledge areas in personal finance."
   ]
  },
  {
   "cell_type": "code",
   "execution_count": null,
   "id": "4abb33df",
   "metadata": {},
   "outputs": [],
   "source": [
    "# TODO: Fill in the missing expertise areas marked with ++++++++++++\n",
    "expertise_system_prompt = \"\"\"\n",
    "You are a Certified Financial Planner (CFP) with 10+ years of experience specializing in:\n",
    "- Comprehensive financial planning for young professionals and families\n",
    "- ++++++++++++\n",
    "- ++++++++++++\n",
    "- ++++++++++++\n",
    "\n",
    "Your expertise includes knowledge of:\n",
    "- CFP Board fiduciary standards and best practices\n",
    "- ++++++++++++\n",
    "- ++++++++++++\n",
    "- ++++++++++++\n",
    "- ++++++++++++\n",
    "\n",
    "You have helped hundreds of ++++++++++++ optimize their financial strategies and build wealth systematically.\n",
    "\"\"\"\n",
    "\n",
    "response = get_completion(expertise_system_prompt, client_scenario)\n",
    "print(\"=== EXPERTISE-ENHANCED CFP RESPONSE ===\")\n",
    "print(response)"
   ]
  },
  {
   "cell_type": "markdown",
   "id": "a3740aaa",
   "metadata": {},
   "source": [
    "## 4. Communication Style Refinement\n",
    "\n",
    "Let's further refine the prompt by adding specifications for tone and conversational style appropriate for financial professionals."
   ]
  },
  {
   "cell_type": "code",
   "execution_count": null,
   "id": "38ce250a",
   "metadata": {},
   "outputs": [],
   "source": [
    "# TODO: Fill in the missing style specifications marked with ++++++++++++\n",
    "style_system_prompt = \"\"\"\n",
    "You are a Certified Financial Planner (CFP) with 10+ years of experience specializing in:\n",
    "- ++++++++++++\n",
    "- ++++++++++++\n",
    "- ++++++++++++\n",
    "- ++++++++++++\n",
    "\n",
    "Communication Style:\n",
    "- Tone: ++++++++++++\n",
    "- Language: ++++++++++++\n",
    "- Structure: ++++++++++++\n",
    "- Focus: ++++++++++++\n",
    "- Approach: Evidence-based advice following the CFP Board's fiduciary standard\n",
    "\n",
    "Always provide specific priority rankings, dollar amounts, and timeline recommendations.\n",
    "Include the financial reasoning behind each recommendation to help clients understand the \"why.\"\n",
    "\"\"\"\n",
    "\n",
    "response = get_completion(style_system_prompt, client_scenario)\n",
    "print(\"=== STYLE-REFINED CFP RESPONSE ===\")\n",
    "print(response)"
   ]
  },
  {
   "cell_type": "markdown",
   "id": "1aa33a51",
   "metadata": {},
   "source": [
    "## 5. Investment Advisor Persona\n",
    "\n",
    "Now, let's create a different persona - an investment advisor who needs to communicate to customers in accessible terms."
   ]
  },
  {
   "cell_type": "code",
   "execution_count": null,
   "id": "7de0a813",
   "metadata": {},
   "outputs": [],
   "source": [
    "# TODO: Fill in the missing specifications marked with ++++++++++++\n",
    "\n",
    "investment_advisor_prompt = \"\"\"\n",
    "You are a Registered Investment Advisor (RIA) with expertise in:\n",
    "- ++++++++++++\n",
    "- ++++++++++++\n",
    "- ++++++++++++\n",
    "\n",
    "Communication Style:\n",
    "- ++++++++++++\n",
    "- ++++++++++++\n",
    " ++++++++++++\n",
    "\n",
    "Your goal is to help young professionals build wealth through systematic, evidence-based investment strategies.\n",
    "\"\"\"\n",
    "\n",
    "# Investment-focused scenario\n",
    "investment_scenario = \"\"\"\n",
    "Alex wants specific guidance on the investment portion of their financial plan:\n",
    "\n",
    "\"I've heard I should be investing for the long term, but I don't know where to start. \n",
    "Should I focus on my 401(k) first, or open an IRA? What about individual stocks vs. index funds? \n",
    "I'm willing to take some risk since I'm young, but I don't want to lose money I can't afford to lose.\n",
    "\n",
    "My 401(k) has limited options - mostly target-date funds and a few index funds. \n",
    "How should I think about asset allocation at my age? And when should I start investing \n",
    "outside of retirement accounts?\"\n",
    "\"\"\"\n",
    "\n",
    "response = get_completion(investment_advisor_prompt, investment_scenario)\n",
    "print(\"=== INVESTMENT ADVISOR RESPONSE ===\")\n",
    "print(response)"
   ]
  },
  {
   "cell_type": "markdown",
   "id": "3d0b1f1a",
   "metadata": {},
   "source": [
    "## 6. Multi-Scenario Testing\n",
    "\n",
    "Let's test our refined personas with different customer scenarios to evaluate consistency and effectiveness."
   ]
  },
  {
   "cell_type": "code",
   "execution_count": null,
   "id": "f1a60f30",
   "metadata": {},
   "outputs": [],
   "source": [
    "# Scenario: Retirement planning scenario\n",
    "\n",
    "retirement_scenario = \"\"\"\n",
    "Client Profile: Sarah Johnson, 45-year-old Marketing Director\n",
    "- Annual Income: $125,000\n",
    "- Current Retirement Savings: $350,000 in 401(k)\n",
    "- Home: Worth $480,000, mortgage balance $180,000\n",
    "- Goal: Retire at age 62\n",
    "- Monthly Expenses: $6,500\n",
    "\n",
    "Sarah's Retirement Planning Concerns:\n",
    "\"I feel like I'm behind on retirement savings compared to where I should be at 45. \n",
    "I want to retire at 62, but I'm not sure if that's realistic. I've been contributing 8% \n",
    "to my 401(k), but should I be doing more? \n",
    "\n",
    "I'm also wondering if I should pay off my mortgage early or focus on retirement savings. \n",
    "And what about Social Security - can I count on that? I feel overwhelmed by all the \n",
    "retirement planning advice out there.\"\n",
    "\n",
    "Additional Context:\n",
    "- Company matches 6% of 401(k) contributions\n",
    "- Mortgage is at 3.2% interest rate\n",
    "- No other significant investments outside 401(k)\n",
    "- Good health, expects to live to at least 85\n",
    "\"\"\"\n",
    "\n",
    "print(\"=== RETIREMENT PLANNING SCENARIO - CFP ===\")\n",
    "response = get_completion(style_system_prompt, retirement_scenario)\n",
    "print(response)\n",
    "print(\"\\n\" + \"=\"*60 + \"\\n\")"
   ]
  },
  {
   "cell_type": "code",
   "execution_count": null,
   "id": "fbaa31e3",
   "metadata": {},
   "outputs": [],
   "source": [
    "#+++++ TODO: Create a sample customer scenario for a young couple planning for a family .\"\n",
    "\n",
    "family_scenario = \"\"\"\n",
    "Client Profile: Mike and Jennifer Torres (both 32)\n",
    "- Combined Annual Income: $140,000\n",
    "- Expecting first child in 6 months\n",
    "- ++++++ \n",
    "- ++++++ \n",
    "- ++++++ \n",
    "- ++++++ \n",
    "\n",
    "Family Planning Concerns:\n",
    "- ++++++ \n",
    "- ++++++\n",
    "- ++++++\n",
    "\n",
    "Additional Context:\n",
    "- Both have stable jobs with good benefits\n",
    "- Currently rent for $1,800/month\n",
    "- Want to buy a $400,000 home within 3-5 years\n",
    "- Employer offers dependent care FSA\n",
    "- Both in good health, non-smokers\n",
    "\"\"\"\n",
    "\n",
    "print(\"=== FAMILY PLANNING SCENARIO - CFP ===\")\n",
    "response = get_completion(style_system_prompt, family_scenario)\n",
    "print(response)\n",
    "print(\"\\n\" + \"=\"*60 + \"\\n\")"
   ]
  },
  {
   "cell_type": "code",
   "execution_count": null,
   "id": "a42d117b",
   "metadata": {},
   "outputs": [],
   "source": [
    "#+++++ TODO: Create a sample customer scenario for a recent graduate struggling with debt.\"\n",
    "debt_scenario = \"\"\"\n",
    "Client Profile: Marcus Williams, 26-year-old Recent Graduate\n",
    "- Annual Income: ++++++++++++\n",
    "- Student Loans: ++++++++++++\n",
    "- Credit Card Debt: ++++++++++++\n",
    "- Emergency Fund: ++++++++++++\n",
    "- Monthly Take-home:++++++++++++\n",
    "- Monthly Expenses: ++++++++++++\n",
    "\n",
    "Marcus's Situation:\n",
    "\"++++++++++++\"\n",
    "\n",
    "Additional Context:\n",
    "- Company offers 3% 401(k) match\n",
    "- Lives with roommates to keep rent low\n",
    "- No car payment (uses public transit)\n",
    "- Good job security and potential for raises\n",
    "- Motivated to improve financial situation\n",
    "\"\"\"\n",
    "\n",
    "print(\"=== DEBT MANAGEMENT SCENARIO - CFP ===\")\n",
    "response = get_completion(style_system_prompt, debt_scenario)\n",
    "print(response)"
   ]
  },
  {
   "cell_type": "markdown",
   "id": "b311d0b9",
   "metadata": {},
   "source": [
    "## 7. Reflection & Best Practices"
   ]
  },
  {
   "cell_type": "markdown",
   "id": "f78b74a2",
   "metadata": {},
   "source": [
    "### Which persona refinement approach produced the most effective personal finance AI assistant and why?\n",
    "\n",
    "Use this cell to document your thoughts:\n",
    "\n",
    "**TODO: Add your response below where you see ++++++++++++**\n",
    "\n",
    "Response: ++++++++++++\n",
    "\n",
    "Consider:\n",
    "- How did adding expertise affect the quality of  investments?\n",
    "- Which communication style was most appropriate?\n",
    "- How did different personas handle the same customer scenario differently?\n",
    "- What persona elements were most critical for financial services applications?"
   ]
  },
  {
   "cell_type": "markdown",
   "id": "14389281",
   "metadata": {},
   "source": [
    "## Summary\n",
    "\n",
    "This exercise demonstrated the power of role-based prompting for personal finance advisory applications:\n",
    "\n",
    "**Best Practices for Personal Finance AI Personas:**\n",
    "- Start with clear professional role definition (CFP, Investment Advisor, etc.)\n",
    "- Add specific domain expertise (debt management, investment planning, tax strategies)\n",
    "- Define client-focused communication standards (educational, empowering, clear)\n",
    "- Test across multiple life stages and financial situations for consistency\n",
    "- Emphasize fiduciary standards and evidence-based recommendations\n",
    "\n",
    "**Real-World Applications:**\n",
    "- Financial planning software and robo-advisors\n",
    "- Educational content and financial literacy tools\n",
    "- Client onboarding and needs assessment systems\n",
    "- Personalized financial guidance platforms\n",
    "\n",
    "These techniques form the foundation for building sophisticated AI agents that can provide valuable personal finance guidance while maintaining professional standards! 🎉\udcb0"
   ]
  }
 ],
 "metadata": {
  "kernelspec": {
   "display_name": "base",
   "language": "python",
   "name": "python3"
  },
  "language_info": {
   "codemirror_mode": {
    "name": "ipython",
    "version": 3
   },
   "file_extension": ".py",
   "mimetype": "text/x-python",
   "name": "python",
   "nbconvert_exporter": "python",
   "pygments_lexer": "ipython3",
   "version": "3.11.7"
  }
 },
 "nbformat": 4,
 "nbformat_minor": 5
}
