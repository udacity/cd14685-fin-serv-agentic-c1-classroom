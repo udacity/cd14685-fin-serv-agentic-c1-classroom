{
 "cells": [
  {
   "cell_type": "markdown",
   "id": "51cc3011",
   "metadata": {},
   "source": [
    "# Lesson 1: Financial AI Assistant - Customer Risk Assessment\n",
    "\n",
    "## Role-Based Prompting for Financial Services\n",
    "\n",
    "In this hands-on exercise, you will craft prompts to instruct an AI to convincingly adopt the persona of different financial professionals during customer risk assessment sessions."
   ]
  },
  {
   "cell_type": "markdown",
   "id": "9155ba44",
   "metadata": {},
   "source": [
    "## Outline:\n",
    "\n",
    "- **Plain Prompt**: Start with a basic prompt without any specific role defined\n",
    "- **Compliance Officer Persona**: Ask the AI to role-play as a compliance officer\n",
    "- **Define Persona-Specific Expertise**: Define professional expertise and knowledge areas\n",
    "- **Communication Style Refinement**: Add tone and style specifications for financial contexts\n",
    "- **Relationship Manager Persona**: Create a customer-facing financial advisor persona  \n",
    "- **Multi-Scenario Testing**: Test personas with various customer risk scenarios\n",
    "- **Reflection & Best Practices**: Evaluate effectiveness of different persona approaches"
   ]
  },
  {
   "cell_type": "markdown",
   "id": "0ae0ba76",
   "metadata": {},
   "source": [
    "## Setup Instructions\n",
    "\n",
    "Before starting this exercise:\n",
    "\n",
    "1. **Install Required Packages**: Run `pip install -r ../../requirements.txt` in your terminal\n",
    "2. **Configure API Key**: \n",
    "   - Open the `.env` file in the root directory\n",
    "   - Replace `your_openai_api_key_here` with your actual OpenAI API key\n",
    "   - Save the file\n",
    "3. **Verify Setup**: Run the import and setup cells below to ensure everything works\n",
    "\n",
    "**Note**: The notebook automatically loads your API key from the `.env` file in the root directory."
   ]
  },
  {
   "cell_type": "code",
   "execution_count": null,
   "id": "51962bb9",
   "metadata": {},
   "outputs": [],
   "source": [
    "# Import necessary libraries\n",
    "import os\n",
    "from dotenv import load_dotenv\n",
    "from openai import OpenAI\n",
    "from IPython.display import Markdown, display\n",
    "import json\n",
    "\n",
    "# Load environment variables from the root .env file\n",
    "load_dotenv('../../.env')"
   ]
  },
  {
   "cell_type": "code",
   "execution_count": null,
   "id": "bacd8a44",
   "metadata": {},
   "outputs": [],
   "source": [
    "# Setup OpenAI client\n",
    "client = OpenAI(\n",
    "    api_key=os.getenv(\"OPENAI_API_KEY\")  # Load from .env file\n",
    ")\n",
    "\n",
    "def get_completion(system_prompt, user_prompt, model=\"gpt-4o-mini\"):\n",
    "    \"\"\"\n",
    "    Function to get a completion from the OpenAI API.\n",
    "    Args:\n",
    "        system_prompt: The system prompt\n",
    "        user_prompt: The user prompt  \n",
    "        model: The model to use (default is gpt-4o-mini)\n",
    "    Returns:\n",
    "        completion text\n",
    "    \"\"\"\n",
    "    try:\n",
    "        response = client.chat.completions.create(\n",
    "            model=model,\n",
    "            messages=[\n",
    "                {\"role\": \"system\", \"content\": system_prompt},\n",
    "                {\"role\": \"user\", \"content\": user_prompt},\n",
    "            ],\n",
    "            temperature=0.7,\n",
    "        )\n",
    "        return response.choices[0].message.content\n",
    "    except Exception as e:\n",
    "        return f\"An error occurred: {e}\""
   ]
  },
  {
   "cell_type": "markdown",
   "id": "eb19f1de",
   "metadata": {},
   "source": [
    "## Customer Risk Scenario\n",
    "\n",
    "We'll use this customer scenario throughout the exercise to test different AI personas:"
   ]
  },
  {
   "cell_type": "code",
   "execution_count": null,
   "id": "9de8cf9b",
   "metadata": {},
   "outputs": [],
   "source": [
    "# Customer risk scenario for testing\n",
    "customer_scenario = \"\"\"\n",
    "Customer Profile: GlobalTech Industries Inc.\n",
    "- Account Type: Business Banking\n",
    "- Industry: Technology Services\n",
    "- Account Age: 18 months\n",
    "- Average Monthly Volume: $2.3M\n",
    "\n",
    "Recent Activity:\n",
    "- 15 wire transfers to offshore accounts in past 30 days\n",
    "- Transfers range from $75K to $250K each\n",
    "- Destinations include Cayman Islands, Singapore, Switzerland\n",
    "- Customer explanation: \"International contractor payments\"\n",
    "- No supporting documentation provided\n",
    "- Transfers occur outside normal business hours\n",
    "\n",
    "Additional Flags:\n",
    "- Customer recently changed business address\n",
    "- New beneficial owners added to account\n",
    "- Requested increased wire transfer limits\n",
    "- Industry research shows typical contractor payments are domestic\n",
    "\n",
    "Question: Please assess this customer's risk profile and provide recommendations.\n",
    "\"\"\"\n",
    "\n",
    "print(\"Customer scenario loaded for testing...\")"
   ]
  },
  {
   "cell_type": "markdown",
   "id": "c8633c29",
   "metadata": {},
   "source": [
    "## 1. Plain Prompt\n",
    "\n",
    "First, let's see what the model produces with a basic prompt before asking it to role-play as a financial professional."
   ]
  },
  {
   "cell_type": "code",
   "execution_count": null,
   "id": "0d2134b9",
   "metadata": {},
   "outputs": [],
   "source": [
    "# Basic prompt without specific role\n",
    "control_system_prompt = \"You are a helpful financial assistant.\"\n",
    "\n",
    "response = get_completion(control_system_prompt, customer_scenario)\n",
    "print(\"=== BASIC PROMPT RESPONSE ===\")\n",
    "print(response)"
   ]
  },
  {
   "cell_type": "markdown",
   "id": "b2c87cd0",
   "metadata": {},
   "source": [
    "## 2. Compliance Officer Persona\n",
    "\n",
    "First, let's see what the model produces with a basic prompt asking it to role-play as a compliance officer."
   ]
  },
  {
   "cell_type": "code",
   "execution_count": null,
   "id": "60374976",
   "metadata": {},
   "outputs": [],
   "source": [
    "# TODO: Fill in the missing parts marked with ++++++++++++\n",
    "# Your Task: Change this line to give the AI the basic role of a Compliance Officer\n",
    "# For example: compliance_system_prompt = \"You are a Senior Compliance Officer at a major financial institution.\"\n",
    "compliance_system_prompt = \"++++++++++++\"\n",
    "\n",
    "# Run this cell. The same customer scenario will be used.\n",
    "response = get_completion(compliance_system_prompt, customer_scenario)\n",
    "print(\"=== COMPLIANCE OFFICER RESPONSE ===\")\n",
    "print(response)"
   ]
  },
  {
   "cell_type": "markdown",
   "id": "a850358f",
   "metadata": {},
   "source": [
    "## 3. Define Persona-Specific Expertise (3 min)\n",
    "\n",
    "Now, let's enhance the prompt by adding specific expertise about the compliance officer's professional background and knowledge areas."
   ]
  },
  {
   "cell_type": "code",
   "execution_count": null,
   "id": "70c41e01",
   "metadata": {},
   "outputs": [],
   "source": [
    "# TODO: Fill in the missing expertise areas marked with ++++++++++++\n",
    "expertise_system_prompt = f\"\"\"\n",
    "You are a Senior Compliance Officer at a major financial institution with 15+ years of experience in:\n",
    "- ++++++++++++  (e.g., Anti-Money Laundering (AML) regulations)\n",
    "- ++++++++++++  (e.g., Bank Secrecy Act (BSA) requirements)\n",
    "- ++++++++++++  (e.g., Suspicious Activity Report (SAR) investigations)\n",
    "- ++++++++++++  (e.g., Risk assessment methodologies)\n",
    "- ++++++++++++  (e.g., Regulatory compliance frameworks)\n",
    "\n",
    "Your expertise includes knowledge of FinCEN requirements, OFAC sanctions, and international banking regulations.\n",
    "You have investigated thousands of suspicious activity cases and filed numerous SARs.\n",
    "\"\"\"\n",
    "\n",
    "# Your Task: Fill in these attributes for a compliance officer specialized in customer risk assessment\n",
    "response = get_completion(expertise_system_prompt, customer_scenario)\n",
    "print(\"=== EXPERTISE-ENHANCED RESPONSE ===\")\n",
    "print(response)"
   ]
  },
  {
   "cell_type": "markdown",
   "id": "1998bcde",
   "metadata": {},
   "source": [
    "## 4. Communication Style Refinement (3 min)\n",
    "\n",
    "Let's further refine the prompt by adding specifications for tone and conversational style appropriate for financial professionals."
   ]
  },
  {
   "cell_type": "code",
   "execution_count": null,
   "id": "59f52dda",
   "metadata": {},
   "outputs": [],
   "source": [
    "# TODO: Fill in the missing style specifications marked with ++++++++++++\n",
    "style_system_prompt = f\"\"\"\n",
    "You are a Senior Compliance Officer at a major financial institution with 15+ years of experience in:\n",
    "- Anti-Money Laundering (AML) regulations and investigations\n",
    "- Bank Secrecy Act (BSA) compliance and reporting requirements\n",
    "- Suspicious Activity Report (SAR) investigations and filing\n",
    "- Customer risk assessment and due diligence procedures\n",
    "- Regulatory compliance frameworks and enforcement actions\n",
    "\n",
    "Communication Style:\n",
    "- Tone: ++++++++++++  (e.g., Professional, analytical, and regulatory-focused)\n",
    "- Language: ++++++++++++  (e.g., Use precise regulatory terminology and cite specific regulations)\n",
    "- Structure: ++++++++++++  (e.g., Provide systematic analysis with clear risk assessment conclusions)\n",
    "- Focus: ++++++++++++  (e.g., Emphasize compliance requirements and regulatory implications)\n",
    "\n",
    "Always provide specific regulatory citations and recommend concrete next steps for compliance.\n",
    "\"\"\"\n",
    "\n",
    "# Your Task: Add specific details about the compliance officer's communication style\n",
    "response = get_completion(style_system_prompt, customer_scenario)\n",
    "print(\"=== STYLE-REFINED RESPONSE ===\")\n",
    "print(response)"
   ]
  },
  {
   "cell_type": "markdown",
   "id": "8427b514",
   "metadata": {},
   "source": [
    "## 5. Relationship Manager Persona (2 min)\n",
    "\n",
    "Now, let's create a different persona - a relationship manager who needs to communicate the same risk assessment to customers in accessible terms."
   ]
  },
  {
   "cell_type": "code",
   "execution_count": null,
   "id": "39bcce99",
   "metadata": {},
   "outputs": [],
   "source": [
    "# TODO: Create a relationship manager persona\n",
    "relationship_manager_prompt = \"++++++++++++\"  # Your task: Create a customer-facing financial advisor persona\n",
    "\n",
    "# Customer communication scenario\n",
    "customer_communication_scenario = \"\"\"\n",
    "You need to explain to GlobalTech Industries Inc. why their account requires additional documentation \n",
    "and enhanced monitoring due to recent transaction patterns. The customer is asking:\n",
    "\n",
    "\"Why are you requesting all this additional paperwork? We've been good customers for 18 months. \n",
    "These are just normal business payments to our international contractors. This is very inconvenient.\"\n",
    "\n",
    "Please respond professionally while maintaining the business relationship.\n",
    "\"\"\"\n",
    "\n",
    "response = get_completion(relationship_manager_prompt, customer_communication_scenario)\n",
    "print(\"=== RELATIONSHIP MANAGER RESPONSE ===\")\n",
    "print(response)"
   ]
  },
  {
   "cell_type": "markdown",
   "id": "4b08546b",
   "metadata": {},
   "source": [
    "## 6. Multi-Scenario Testing (5 min)\n",
    "\n",
    "Let's test our refined personas with different customer risk scenarios to evaluate consistency and effectiveness."
   ]
  },
  {
   "cell_type": "code",
   "execution_count": null,
   "id": "3e2beef7",
   "metadata": {},
   "outputs": [],
   "source": [
    "# Scenario 1: Low-risk customer\n",
    "# TODO: Create a low-risk customer scenario\n",
    "low_risk_scenario = \"\"\"+++++++++++++ \n",
    "(Create a customer profile with normal, low-risk transaction patterns)\n",
    "\"\"\"\n",
    "\n",
    "print(\"=== LOW-RISK SCENARIO - COMPLIANCE OFFICER ===\")\n",
    "response = get_completion(style_system_prompt, low_risk_scenario)\n",
    "print(response)\n",
    "print(\"\\n\" + \"=\"*60 + \"\\n\")"
   ]
  },
  {
   "cell_type": "code",
   "execution_count": null,
   "id": "eafa62bc",
   "metadata": {},
   "outputs": [],
   "source": [
    "# Scenario 2: Complex high-risk case\n",
    "# TODO: Create a complex high-risk scenario\n",
    "high_risk_scenario = \"\"\"+++++++++++++ \n",
    "(Create a customer profile with multiple red flags and complex suspicious patterns)\n",
    "\"\"\"\n",
    "\n",
    "print(\"=== HIGH-RISK SCENARIO - COMPLIANCE OFFICER ===\")\n",
    "response = get_completion(style_system_prompt, high_risk_scenario)\n",
    "print(response)\n",
    "print(\"\\n\" + \"=\"*60 + \"\\n\")"
   ]
  },
  {
   "cell_type": "code",
   "execution_count": null,
   "id": "5ca9fb2e",
   "metadata": {},
   "outputs": [],
   "source": [
    "# Scenario 3: Borderline case requiring judgment\n",
    "# TODO: Create a borderline risk scenario\n",
    "borderline_scenario = \"\"\"+++++++++++++ \n",
    "(Create a customer profile with some concerning patterns but plausible explanations)\n",
    "\"\"\"\n",
    "\n",
    "print(\"=== BORDERLINE SCENARIO - COMPLIANCE OFFICER ===\")\n",
    "response = get_completion(style_system_prompt, borderline_scenario)\n",
    "print(response)"
   ]
  },
  {
   "cell_type": "markdown",
   "id": "2d7f4205",
   "metadata": {},
   "source": [
    "## 7. Reflection & Best Practices (5 min)\n",
    "\n",
    "Let's reflect on what we've learned from this exercise."
   ]
  },
  {
   "cell_type": "markdown",
   "id": "6a4f7d4d",
   "metadata": {},
   "source": [
    "### Which persona refinement approach produced the most effective financial AI assistant and why?\n",
    "\n",
    "Use this cell to document your thoughts:\n",
    "\n",
    "**TODO: Add your response below where you see ++++++++++++**\n",
    "\n",
    "Response: ++++++++++++\n",
    "\n",
    "Consider:\n",
    "- How did adding expertise affect the quality of risk assessments?\n",
    "- Which communication style was most appropriate for regulatory compliance?\n",
    "- How did different personas handle the same risk scenario differently?\n",
    "- What persona elements were most critical for financial services applications?"
   ]
  },
  {
   "cell_type": "markdown",
   "id": "a495230e",
   "metadata": {},
   "source": [
    "## Summary\n",
    "\n",
    "In this exercise, we explored how role-based prompting can be used to create specialized financial AI assistants:\n",
    "\n",
    "1. **Plain Prompt**: We started with a simple generic assistant\n",
    "2. **Compliance Officer Persona**: We created a specialized compliance role\n",
    "3. **Persona-Specific Expertise**: We added detailed professional knowledge and experience\n",
    "4. **Communication Style Refinement**: We refined tone and communication approach for financial contexts\n",
    "5. **Relationship Manager Persona**: We created a customer-facing financial advisor\n",
    "6. **Multi-Scenario Testing**: We tested persona consistency across different risk scenarios\n",
    "7. **Best Practices**: We evaluated which approaches work best for financial services\n",
    "\n",
    "Key insights for financial AI persona development:\n",
    "- **Regulatory Knowledge**: Compliance personas need specific regulatory expertise\n",
    "- **Communication Adaptation**: Different stakeholders need different communication styles\n",
    "- **Professional Standards**: Financial AI must maintain professional standards and accuracy\n",
    "- **Context Awareness**: Personas should adapt appropriately to different risk scenarios\n",
    "\n",
    "Great work on making it this far! 🎉🚀"
   ]
  }
 ],
 "metadata": {
  "language_info": {
   "name": "python"
  }
 },
 "nbformat": 4,
 "nbformat_minor": 5
}
