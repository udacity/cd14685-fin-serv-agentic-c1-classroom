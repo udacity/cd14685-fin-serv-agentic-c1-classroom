{
 "cells": [
  {
   "cell_type": "markdown",
   "id": "7a15854d",
   "metadata": {},
   "source": [
    "# Lesson 1: Introduction to Prompting - Demo\n",
    "\n",
    "## Role-Based Prompting for Financial Advisory Services\n",
    "\n",
    "This demonstration shows how different prompting approaches can dramatically improve AI responses in financial services contexts. We'll explore the transformation from basic prompts to sophisticated, role-based personas using a budget planning scenario.\n",
    "\n",
    "**Learning Objectives:**\n",
    "- Understand the impact of role definition in prompts\n",
    "- Learn to create specific financial expertise personas  \n",
    "- Observe how specialized prompts improve response quality and relevance\n",
    "- Practice iterative prompt refinement techniques"
   ]
  },
  {
   "cell_type": "markdown",
   "id": "363dbc79",
   "metadata": {},
   "source": [
    "## What We'll Demonstrate:\n",
    "\n",
    "1. **Basic Prompt**: Start with a generic request for financial advice\n",
    "2. **Financial Advisor Role**: Add professional role context\n",
    "3. **Specialized Expertise**: Define specific areas of financial specialization\n",
    "4. **Communication Style**: Refine tone and approach for client interactions\n",
    "5. **Budget Specialist Persona**: Create a focused budgeting and cash flow expert\n",
    "6. **Comparative Analysis**: See how different personas approach the same problem"
   ]
  },
  {
   "cell_type": "code",
   "execution_count": null,
   "id": "411ecc22",
   "metadata": {},
   "outputs": [],
   "source": [
    "# Import necessary libraries\n",
    "import os\n",
    "from dotenv import load_dotenv\n",
    "from openai import OpenAI\n",
    "from IPython.display import Markdown, display\n",
    "import json\n",
    "\n",
    "# Load environment variables from the root .env file\n",
    "load_dotenv('../../.env')"
   ]
  },
  {
   "cell_type": "code",
   "execution_count": null,
   "id": "9881c56e",
   "metadata": {},
   "outputs": [],
   "source": [
    "# Setup OpenAI client for Vocareum environment\n",
    "client = OpenAI(\n",
    "    base_url=\"https://openai.vocareum.com/v1\",\n",
    "    api_key=os.getenv(\"OPENAI_API_KEY\")  # Load from .env file\n",
    ")\n",
    "\n",
    "def get_completion(system_prompt, user_prompt, model=\"gpt-4o-mini\"):\n",
    "    \"\"\"\n",
    "    Function to get a completion from the OpenAI API.\n",
    "    Args:\n",
    "        system_prompt: The system prompt defining the AI's role\n",
    "        user_prompt: The user's question or scenario  \n",
    "        model: The model to use (default is gpt-4o-mini)\n",
    "    Returns:\n",
    "        completion text\n",
    "    \"\"\"\n",
    "    try:\n",
    "        response = client.chat.completions.create(\n",
    "            model=model,\n",
    "            messages=[\n",
    "                {\"role\": \"system\", \"content\": system_prompt},\n",
    "                {\"role\": \"user\", \"content\": user_prompt},\n",
    "            ],\n",
    "            temperature=0.7,\n",
    "        )\n",
    "        return response.choices[0].message.content\n",
    "    except Exception as e:\n",
    "        return f\"An error occurred: {e}\""
   ]
  },
  {
   "cell_type": "markdown",
   "id": "3f4e1ff3",
   "metadata": {},
   "source": [
    "## Budget Planning Scenario\n",
    "\n",
    "For this demonstration, we'll use a budget planning scenario where a young professional needs help organizing their finances."
   ]
  },
  {
   "cell_type": "code",
   "execution_count": null,
   "id": "febd4883",
   "metadata": {},
   "outputs": [],
   "source": [
    "# Budget planning scenario for demonstrating different prompting approaches\n",
    "budget_scenario = \"\"\"\n",
    "Client Profile: Jordan Martinez, 26-year-old Marketing Manager\n",
    "- Annual Salary: $68,000 (gross)\n",
    "- Take-home pay: ~$4,100/month after taxes and benefits\n",
    "- Current monthly expenses:\n",
    "  * Rent: $1,400\n",
    "  * Car payment: $320  \n",
    "  * Insurance (auto + renters): $180\n",
    "  * Groceries: $400\n",
    "  * Utilities: $150\n",
    "  * Phone: $85\n",
    "  * Subscriptions (streaming, gym, etc.): $75\n",
    "  * Dining out/entertainment: $650\n",
    "  * Gas: $120\n",
    "  * Miscellaneous: $200\n",
    "\n",
    "Total monthly expenses: ~$3,580\n",
    "Monthly surplus: ~$520\n",
    "\n",
    "Client's Request: \"I feel like I'm barely saving anything each month even though \n",
    "I have money left over. I want to create a proper budget that helps me save \n",
    "for both short-term goals (vacation in 6 months) and long-term goals (buying \n",
    "a home in 3-5 years). Can you help me organize my finances better?\"\n",
    "\"\"\"\n",
    "\n",
    "print(\"=== BUDGET PLANNING SCENARIO ===\")\n",
    "print(budget_scenario)"
   ]
  },
  {
   "cell_type": "markdown",
   "id": "c067b034",
   "metadata": {},
   "source": [
    "## 1. Basic Prompt (No Role Definition)\n",
    "\n",
    "First, let's see what happens when we use a generic prompt without any role specification."
   ]
  },
  {
   "cell_type": "code",
   "execution_count": null,
   "id": "bf1abd2b",
   "metadata": {},
   "outputs": [],
   "source": [
    "# Basic prompt with no specific role\n",
    "basic_system_prompt = \"You are a helpful assistant.\"\n",
    "\n",
    "print(\"=== BASIC PROMPT RESPONSE ===\")\n",
    "basic_response = get_completion(basic_system_prompt, budget_scenario)\n",
    "print(basic_response)"
   ]
  },
  {
   "cell_type": "markdown",
   "id": "8036ed01",
   "metadata": {},
   "source": [
    "## 2. Financial Advisor Role\n",
    "\n",
    "Now let's add a basic financial advisor role to see how it improves the response quality."
   ]
  },
  {
   "cell_type": "code",
   "execution_count": null,
   "id": "87dad660",
   "metadata": {},
   "outputs": [],
   "source": [
    "# Basic financial advisor role\n",
    "advisor_system_prompt = \"You are a financial advisor who helps people with budgeting and financial planning.\"\n",
    "\n",
    "print(\"=== FINANCIAL ADVISOR RESPONSE ===\")\n",
    "advisor_response = get_completion(advisor_system_prompt, budget_scenario)\n",
    "print(advisor_response)"
   ]
  },
  {
   "cell_type": "markdown",
   "id": "aa7009e1",
   "metadata": {},
   "source": [
    "## 3. Specialized Expertise Definition\n",
    "\n",
    "Let's enhance the prompt by defining specific areas of expertise relevant to our scenario."
   ]
  },
  {
   "cell_type": "code",
   "execution_count": null,
   "id": "c590378f",
   "metadata": {},
   "outputs": [],
   "source": [
    "# Enhanced financial advisor with specific expertise\n",
    "expert_system_prompt = \"\"\"You are a financial advisor with specialized expertise in:\n",
    "- Personal budgeting and cash flow optimization\n",
    "- Goal-based savings strategies for young professionals  \n",
    "- First-time homebuyer planning and preparation\n",
    "- Expense analysis and spending habit improvement\n",
    "- Emergency fund establishment and management\n",
    "\n",
    "You have 8+ years of experience working with clients in their 20s and 30s who are \n",
    "establishing their financial foundation.\"\"\"\n",
    "\n",
    "print(\"=== SPECIALIZED EXPERTISE RESPONSE ===\")\n",
    "expert_response = get_completion(expert_system_prompt, budget_scenario)\n",
    "print(expert_response)"
   ]
  },
  {
   "cell_type": "markdown",
   "id": "b33be743",
   "metadata": {},
   "source": [
    "## 4. Communication Style Refinement\n",
    "\n",
    "Now let's add specific communication guidelines to make the advice more actionable and client-focused."
   ]
  },
  {
   "cell_type": "code",
   "execution_count": null,
   "id": "f1f50fcc",
   "metadata": {},
   "outputs": [],
   "source": [
    "# Financial advisor with refined communication style\n",
    "styled_system_prompt = \"\"\"You are a financial advisor with specialized expertise in:\n",
    "- Personal budgeting and cash flow optimization\n",
    "- Goal-based savings strategies for young professionals  \n",
    "- First-time homebuyer planning and preparation\n",
    "- Expense analysis and spending habit improvement\n",
    "- Emergency fund establishment and management\n",
    "\n",
    "Communication Style:\n",
    "- Provide specific, actionable recommendations with dollar amounts\n",
    "- Use clear step-by-step guidance\n",
    "- Explain the reasoning behind each recommendation\n",
    "- Be encouraging and supportive while maintaining professionalism\n",
    "- Include realistic timelines for achieving goals\n",
    "- Address both short-term and long-term financial objectives\"\"\"\n",
    "\n",
    "print(\"=== STYLE-REFINED ADVISOR RESPONSE ===\")\n",
    "styled_response = get_completion(styled_system_prompt, budget_scenario)\n",
    "print(styled_response)"
   ]
  },
  {
   "cell_type": "markdown",
   "id": "45453650",
   "metadata": {},
   "source": [
    "## 5. Budget Specialist Persona\n",
    "\n",
    "Finally, let's create a highly focused persona that specializes specifically in budgeting and cash flow management."
   ]
  },
  {
   "cell_type": "code",
   "execution_count": null,
   "id": "1aa5825f",
   "metadata": {},
   "outputs": [],
   "source": [
    "# Specialized budget and cash flow expert\n",
    "budget_specialist_prompt = \"\"\"You are a Certified Personal Finance Counselor (CPFC) specializing in:\n",
    "\n",
    "Core Expertise:\n",
    "- Zero-based budgeting and envelope method implementation\n",
    "- Cash flow optimization for maximum savings potential\n",
    "- Behavioral spending analysis and habit modification\n",
    "- Goal-based savings automation and systems\n",
    "- Home purchase readiness assessment and planning\n",
    "\n",
    "Methodology:\n",
    "- Use the 50/30/20 rule as a starting framework, but customize based on client goals\n",
    "- Prioritize automated savings and \"pay yourself first\" principles\n",
    "- Analyze spending patterns for optimization opportunities\n",
    "- Create realistic timelines with milestone tracking\n",
    "- Focus on sustainable, long-term financial habits\n",
    "\n",
    "Communication Approach:\n",
    "- Provide specific budget categories with recommended amounts\n",
    "- Include practical implementation steps and tools\n",
    "- Explain the psychology behind effective budgeting\n",
    "- Offer alternatives for common budgeting challenges\"\"\"\n",
    "\n",
    "print(\"=== BUDGET SPECIALIST RESPONSE ===\")\n",
    "specialist_response = get_completion(budget_specialist_prompt, budget_scenario)\n",
    "print(specialist_response)"
   ]
  },
  {
   "cell_type": "markdown",
   "id": "c6017e6b",
   "metadata": {},
   "source": [
    "## 6. Comparative Analysis\n",
    "\n",
    "Let's test both the general financial advisor and budget specialist with a more specific follow-up question to see how their expertise shows through."
   ]
  },
  {
   "cell_type": "code",
   "execution_count": null,
   "id": "2dff6b50",
   "metadata": {},
   "outputs": [],
   "source": [
    "# Specific follow-up question about implementation\n",
    "followup_question = \"\"\"\n",
    "Thanks for the advice! I'm particularly interested in the vacation savings goal. \n",
    "I want to save $3,000 for a vacation in 6 months. Looking at my current spending, \n",
    "where specifically should I cut back, and should I open a separate savings account \n",
    "for this goal? Also, how do I make sure I don't dip into this money for other expenses?\n",
    "\"\"\"\n",
    "\n",
    "print(\"=== FOLLOW-UP QUESTION ===\")\n",
    "print(followup_question)\n",
    "print(\"\\n\" + \"=\"*50)\n",
    "\n",
    "# Test with general financial advisor\n",
    "print(\"\\n=== GENERAL ADVISOR RESPONSE ===\")\n",
    "general_followup = get_completion(expert_system_prompt, followup_question)\n",
    "print(general_followup)\n",
    "\n",
    "print(\"\\n\" + \"=\"*50)\n",
    "\n",
    "# Test with budget specialist\n",
    "print(\"\\n=== BUDGET SPECIALIST RESPONSE ===\")\n",
    "specialist_followup = get_completion(budget_specialist_prompt, followup_question)\n",
    "print(specialist_followup)"
   ]
  },
  {
   "cell_type": "markdown",
   "id": "25a4e2da",
   "metadata": {},
   "source": [
    "## 7. Testing Different Scenarios\n",
    "\n",
    "Let's see how our budget specialist handles different types of financial challenges."
   ]
  },
  {
   "cell_type": "code",
   "execution_count": null,
   "id": "5cf470c3",
   "metadata": {},
   "outputs": [],
   "source": [
    "# Test scenario 1: Emergency fund priority\n",
    "emergency_scenario = \"\"\"\n",
    "I just realized I don't have any emergency savings. My friend said I should have \n",
    "3-6 months of expenses saved up before focusing on other goals. But I also really \n",
    "want to start saving for a house down payment. Should I put all my extra money \n",
    "toward an emergency fund first, or can I split it between emergency savings and \n",
    "house savings?\n",
    "\"\"\"\n",
    "\n",
    "print(\"=== EMERGENCY FUND SCENARIO ===\")\n",
    "emergency_response = get_completion(budget_specialist_prompt, emergency_scenario)\n",
    "print(emergency_response)"
   ]
  },
  {
   "cell_type": "code",
   "execution_count": null,
   "id": "9f429a7c",
   "metadata": {},
   "outputs": [],
   "source": [
    "# Test scenario 2: Expense optimization\n",
    "optimization_scenario = \"\"\"\n",
    "Looking at my budget, I spend $650/month on dining out and entertainment. I know \n",
    "this is probably too much, but I work long hours and I'm social with my coworkers. \n",
    "I don't want to become a hermit, but I also know I need to cut back. What's a \n",
    "realistic approach to reducing this expense category without feeling deprived?\n",
    "\"\"\"\n",
    "\n",
    "print(\"=== EXPENSE OPTIMIZATION SCENARIO ===\")\n",
    "optimization_response = get_completion(budget_specialist_prompt, optimization_scenario)\n",
    "print(optimization_response)"
   ]
  },
  {
   "cell_type": "markdown",
   "id": "1b247111",
   "metadata": {},
   "source": [
    "## Key Observations and Best Practices\n",
    "\n",
    "### What We Learned:\n",
    "\n",
    "1. **Role Definition Impact**: Adding a specific professional role immediately improves response relevance and authority\n",
    "\n",
    "2. **Expertise Specification**: Defining areas of specialization leads to more targeted, actionable advice\n",
    "\n",
    "3. **Communication Style**: Clear guidelines for tone and format create more usable, client-ready responses\n",
    "\n",
    "4. **Persona Depth**: Highly specialized personas (like our budget specialist) provide more nuanced, methodologically sound advice\n",
    "\n",
    "5. **Consistency**: Well-defined personas maintain their expertise and approach across different scenarios\n",
    "\n",
    "### Prompting Best Practices for Financial Services:\n",
    "\n",
    "- **Be Specific**: Define exact areas of expertise relevant to your use case\n",
    "- **Include Methodology**: Specify the frameworks and approaches the AI should use\n",
    "- **Set Communication Standards**: Define how the AI should interact with users\n",
    "- **Test Multiple Scenarios**: Validate that your persona works across different situations\n",
    "- **Iterate and Refine**: Use feedback to continuously improve your prompts\n"
   ]
  }
 ],
 "metadata": {
  "language_info": {
   "name": "python"
  }
 },
 "nbformat": 4,
 "nbformat_minor": 5
}
